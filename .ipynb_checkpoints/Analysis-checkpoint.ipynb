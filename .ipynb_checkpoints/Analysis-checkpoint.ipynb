{
 "cells": [
  {
   "cell_type": "markdown",
   "id": "1d385f15",
   "metadata": {},
   "source": [
    "# Data Analysis: See Data Collection First"
   ]
  },
  {
   "cell_type": "markdown",
   "id": "3fe84868",
   "metadata": {},
   "source": [
    "### Set up Imports and Import Data\n",
    "#### Uses rpy2 to utilize R data visualization language to run analysis"
   ]
  },
  {
   "cell_type": "code",
   "execution_count": 36,
   "id": "554e0aff",
   "metadata": {},
   "outputs": [
    {
     "name": "stdout",
     "output_type": "stream",
     "text": [
      "The rpy2.ipython extension is already loaded. To reload it, use:\n",
      "  %reload_ext rpy2.ipython\n"
     ]
    }
   ],
   "source": [
    "import pandas as pd\n",
    "import rpy2\n",
    "import datetime\n",
    "%load_ext rpy2.ipython\n",
    "\n",
    "# Things to add still\n",
    "## Check P Values and group Land Size by additional unit (10, 100?)\n",
    "## Create a predicted column based upon the given fields, calculate Deltas and visualize data/errors\n",
    "## See what % is fair valued vs not"
   ]
  },
  {
   "cell_type": "code",
   "execution_count": 37,
   "id": "1ad868ce",
   "metadata": {},
   "outputs": [
    {
     "name": "stdout",
     "output_type": "stream",
     "text": [
      "Enter name of CSV in current working directory (include .csv): 2023_data.csv\n",
      "2023\n",
      "<class 'pandas.core.frame.DataFrame'>\n",
      "RangeIndex: 60 entries, 0 to 59\n",
      "Data columns (total 11 columns):\n",
      " #   Column          Non-Null Count  Dtype  \n",
      "---  ------          --------------  -----  \n",
      " 0   prop_id         60 non-null     int64  \n",
      " 1   geo_id          60 non-null     object \n",
      " 2   name            60 non-null     object \n",
      " 3   appraised       60 non-null     float64\n",
      " 4   land_value      60 non-null     float64\n",
      " 5   land_size       60 non-null     float64\n",
      " 6   improved_value  60 non-null     float64\n",
      " 7   imp_sqft        60 non-null     float64\n",
      " 8   year            59 non-null     object \n",
      " 9   bldg_class      60 non-null     object \n",
      " 10  dollar_sqft     0 non-null      float64\n",
      "dtypes: float64(6), int64(1), object(4)\n",
      "memory usage: 5.3+ KB\n"
     ]
    }
   ],
   "source": [
    "file_name = str(input('Enter name of CSV in current working directory (include .csv): '))\n",
    "df = pd.read_csv(file_name)\n",
    "\n",
    "year = datetime.datetime.today().year\n",
    "print(year)\n",
    "#testing output\n",
    "df.info()\n",
    "\n"
   ]
  },
  {
   "cell_type": "code",
   "execution_count": 45,
   "id": "ae6d61c0",
   "metadata": {},
   "outputs": [
    {
     "name": "stdout",
     "output_type": "stream",
     "text": [
      "1     2016\n",
      "2     2014\n",
      "3     2014\n",
      "5     2007\n",
      "7     2010\n",
      "8     2016\n",
      "11    2010\n",
      "13     840\n",
      "17     290\n",
      "21    2012\n",
      "22    2003\n",
      "23    2005\n",
      "24    2003\n",
      "29    2010\n",
      "30       0\n",
      "31    2010\n",
      "32    2010\n",
      "33    2010\n",
      "34    2010\n",
      "35    2010\n",
      "37     400\n",
      "38    2009\n",
      "42    2014\n",
      "43    1984\n",
      "44     300\n",
      "45    2009\n",
      "46       0\n",
      "47     352\n",
      "48    2015\n",
      "49     280\n",
      "51    2002\n",
      "54     660\n",
      "55     800\n",
      "59       0\n",
      "Name: year, dtype: int64\n"
     ]
    },
    {
     "name": "stderr",
     "output_type": "stream",
     "text": [
      "/var/folders/f3/p47z8bv91fz_xq2tl0xv0sq80000gn/T/ipykernel_49789/4213588542.py:7: SettingWithCopyWarning: \n",
      "A value is trying to be set on a copy of a slice from a DataFrame.\n",
      "Try using .loc[row_indexer,col_indexer] = value instead\n",
      "\n",
      "See the caveats in the documentation: https://pandas.pydata.org/pandas-docs/stable/user_guide/indexing.html#returning-a-view-versus-a-copy\n",
      "  df_houses['year'] = pd.to_numeric(df['year'], errors='coerce').fillna(0).astype(int)\n",
      "/var/folders/f3/p47z8bv91fz_xq2tl0xv0sq80000gn/T/ipykernel_49789/4213588542.py:8: SettingWithCopyWarning: \n",
      "A value is trying to be set on a copy of a slice from a DataFrame.\n",
      "Try using .loc[row_indexer,col_indexer] = value instead\n",
      "\n",
      "See the caveats in the documentation: https://pandas.pydata.org/pandas-docs/stable/user_guide/indexing.html#returning-a-view-versus-a-copy\n",
      "  df_houses['relative_year'] = year - df_houses['year']\n"
     ]
    }
   ],
   "source": [
    "df_land = df.loc[df['improved_value'] == 0.0]\n",
    "df_houses = df.loc[df['improved_value'] != 0.0]\n",
    "\n",
    "#df_houses['relative_year'] = year - df_houses['year']\n",
    "#df['year'] = df['year'].fillna(0).astype(int)\n",
    "#df['year'] = df['year'].astype(int)\n",
    "df_houses['year'] = pd.to_numeric(df['year'], errors='coerce').fillna(0).astype(int)\n",
    "df_houses['relative_year'] = year - df_houses['year']\n",
    "print(df_houses['year'])\n",
    "\n",
    "\n",
    "\n",
    "df_houses.to_csv(f'Data/{file_name[:4]}_Houses.csv') # use dynamic filename to name our data_file\n",
    "df_land.to_csv(f'Data/{file_name[:4]}_Land.csv') # use dynamic filename to name our data_file"
   ]
  },
  {
   "cell_type": "code",
   "execution_count": 53,
   "id": "d0bcebc3",
   "metadata": {},
   "outputs": [],
   "source": [
    "%%R\n",
    "library(ggplot2)\n",
    "library(tidyverse)\n",
    "\n",
    "houses = read.csv('Data/2023_Houses.csv')\n",
    "land = read.csv('Data/2023_Land.csv')\n",
    "\n",
    "# head(houses)\n",
    "\n"
   ]
  },
  {
   "cell_type": "code",
   "execution_count": 54,
   "id": "2a17c7fe",
   "metadata": {},
   "outputs": [],
   "source": [
    "%%R\n",
    "\n",
    "threshold_year = 2023 - 1984\n",
    "lm_houses = lm(appraised ~ land_value + land_size + imp_sqft + relative_year, data = subset(houses, relative_year < threshold_year))"
   ]
  },
  {
   "cell_type": "code",
   "execution_count": 55,
   "id": "1254e630",
   "metadata": {},
   "outputs": [
    {
     "name": "stdout",
     "output_type": "stream",
     "text": [
      "  (Intercept)    land_value     land_size      imp_sqft relative_year \n",
      "  82138.27445       1.01477     -24.95822     285.03564    5650.44365 \n"
     ]
    }
   ],
   "source": [
    "%%R\n",
    "coef(lm_houses) #first regression"
   ]
  },
  {
   "cell_type": "code",
   "execution_count": null,
   "id": "cc0fb784",
   "metadata": {},
   "outputs": [],
   "source": []
  }
 ],
 "metadata": {
  "kernelspec": {
   "display_name": "Python 3 (ipykernel)",
   "language": "python",
   "name": "python3"
  },
  "language_info": {
   "codemirror_mode": {
    "name": "ipython",
    "version": 3
   },
   "file_extension": ".py",
   "mimetype": "text/x-python",
   "name": "python",
   "nbconvert_exporter": "python",
   "pygments_lexer": "ipython3",
   "version": "3.10.6"
  }
 },
 "nbformat": 4,
 "nbformat_minor": 5
}
