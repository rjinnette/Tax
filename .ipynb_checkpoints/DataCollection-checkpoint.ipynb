{
 "cells": [
  {
   "cell_type": "markdown",
   "id": "95c6193e",
   "metadata": {},
   "source": [
    "# Tax Appeal\n",
    "### Created by: Ryan Jinnette\n",
    "\n",
    "#### This file uses selenium and pandas to scrape county website for tax records that will be used for analysis to fair price valuation"
   ]
  },
  {
   "cell_type": "markdown",
   "id": "f4afcfc3",
   "metadata": {},
   "source": [
    "## Set Up and Imports"
   ]
  },
  {
   "cell_type": "code",
   "execution_count": 30,
   "id": "944d78b6",
   "metadata": {},
   "outputs": [],
   "source": [
    "# !pip install selenium\n",
    "# for actual scraping/browser interaction\n",
    "\n",
    "# !pip install pandas\n",
    "# for df analysis and writing to a csv\n",
    "\n",
    "# !pip install rpy2\n",
    "# for running r code if needed\n",
    "\n",
    "# !pip install tqdm\n",
    "# to create a graphic look at the progress of the program\n",
    "\n",
    "# ! pip install chromedriver_autoinstaller\n",
    "# check to make our webdriver can work with the current version of chrome"
   ]
  },
  {
   "cell_type": "code",
   "execution_count": 14,
   "id": "b9face3f",
   "metadata": {},
   "outputs": [
    {
     "name": "stdout",
     "output_type": "stream",
     "text": [
      "The rpy2.ipython extension is already loaded. To reload it, use:\n",
      "  %reload_ext rpy2.ipython\n"
     ]
    }
   ],
   "source": [
    "import pandas as pd\n",
    "from selenium.webdriver.common.by import By\n",
    "from selenium import webdriver\n",
    "import chromedriver_autoinstaller\n",
    "import time\n",
    "from selenium.webdriver.support.ui import WebDriverWait\n",
    "from selenium.common.exceptions import NoSuchElementException\n",
    "\n",
    "# allow for tracking of the collection process\n",
    "from tqdm import tqdm\n",
    "\n",
    "# allow R processing of data\n",
    "import rpy2\n",
    "%load_ext rpy2.ipython\n",
    "\n",
    "#import timeit\n",
    "# to time our program"
   ]
  },
  {
   "cell_type": "markdown",
   "id": "83891cda",
   "metadata": {},
   "source": [
    "## Constants and Class Definitions"
   ]
  },
  {
   "cell_type": "code",
   "execution_count": 15,
   "id": "3a37ea15",
   "metadata": {},
   "outputs": [],
   "source": [
    "# creates class to save code\n",
    "class lot:\n",
    "    '''This class provides a framework to store data more easily instead of multiple lists.\n",
    "    I can reference just the instance of the class'''\n",
    "    def __init__(self, prop_id=None, geo_id=None, name=None, appraised=None, land_value=None, land_size=None, improved_value=None, sqft=None, year=None, bldg_class=None):\n",
    "        self.prop_id = prop_id\n",
    "        self.geo_id = geo_id\n",
    "        self.name = name\n",
    "        self.appraised = appraised\n",
    "        self.land_value = land_value\n",
    "        self.land_size = land_size\n",
    "        self.improved_value = improved_value\n",
    "        self.imp_sqft = sqft\n",
    "        self.year = year\n",
    "        self.bldg_class = bldg_class\n",
    "        self.dollar_sqft = None\n",
    "    \n",
    "    def set_dtypes(self):\n",
    "        '''used to keep things consistent so that math can be done on all cells and not throw errors'''\n",
    "        self.improved_value = float(self.improved_value.replace('(+)','').replace(',','').replace('$',''))\n",
    "        self.appraised = float(self.appraised.replace(',','').replace('$',''))\n",
    "        self.land_value = float(self.land_value.replace(',','').replace('$',''))\n",
    "        self.land_size = float(self.land_size.replace(',',''))\n",
    "        if self.imp_sqft != 0:\n",
    "            self.imp_sqft = float(self.imp_sqft[13:-4].strip().replace(',',''))\n",
    "            #self.dollar_sqft = round(self.improved_value / self.imp_sqft,2)\n",
    "        \n",
    "            \n"
   ]
  },
  {
   "cell_type": "code",
   "execution_count": 16,
   "id": "8ad976bf",
   "metadata": {},
   "outputs": [
    {
     "name": "stdin",
     "output_type": "stream",
     "text": [
      "What year of records would you like to grab?  2023\n"
     ]
    }
   ],
   "source": [
    "# instantiates the lots var used to store the class instances\n",
    "lots = []\n",
    "\n",
    "# url of apparaisal district with my \n",
    "web_url = r'https://esearch.galvestoncad.org/Search/Result?keywords=Johnson%20Crawford#'\n",
    "\n",
    "# make it dynamic, grabs the \n",
    "year = int(input('What year of records would you like to grab? '))\n"
   ]
  },
  {
   "cell_type": "markdown",
   "id": "18928c1e",
   "metadata": {},
   "source": [
    "## Data Collection\n",
    "#### Iterates over the webpage and grabs all necessary data, adds to the class and uses the XPATH of certain items to track them on the page for easy identification and repeatability"
   ]
  },
  {
   "cell_type": "code",
   "execution_count": 17,
   "id": "d497a02c",
   "metadata": {},
   "outputs": [],
   "source": [
    "def collect(web_url,year):\n",
    "    '''used to actually collect the data through scraping'''\n",
    "    driver = webdriver.Chrome()\n",
    "    driver.get(web_url)\n",
    "    driver.implicitly_wait(2) # dynamic waiting to see when any certain searched for object becomes available\n",
    "    time.sleep(2)\n",
    "    \n",
    "    #change the list view to 100 instead of default 25\n",
    "    #btn = driver.find_element(By.ID, 'btnFilterByPage')\n",
    "    #btn.click()\n",
    "    year_script = f\"filterByYear({year});\"\n",
    "    driver.execute_script(year_script)\n",
    "    \n",
    "    page_count_script = \"handlePageSizeChange(100);\"\n",
    "    driver.execute_script(page_count_script)\n",
    "    \n",
    "    \n",
    "    \n",
    "    #btn = driver.find_element(By.XPATH, '/html/body/div[4]/div[3]/div/span[3]/ul/li[3]')\n",
    "    #btn.click()\n",
    "    \n",
    "    time.sleep(2)\n",
    "\n",
    "    rows = driver.find_elements(By.XPATH, '/html/body/div[4]/div[4]/div[2]/table/tbody/tr')\n",
    "    start = time.time()\n",
    "    \n",
    "    for i in tqdm(range(2, len(rows)+1), desc=\"Processing rows\", unit=\"row\"):\n",
    "        # this grabs all initially avail info, will have to go into each property next\n",
    "        prop_id = driver.find_element(By.XPATH, f'/html/body/div[4]/div[4]/div[2]/table/tbody/tr[{i}]/td[1]').text\n",
    "        geo_id = driver.find_element(By.XPATH, f'/html/body/div[4]/div[4]/div[2]/table/tbody/tr[{i}]/td[3]').text\n",
    "        name = driver.find_element(By.XPATH, f'/html/body/div[4]/div[4]/div[2]/table/tbody/tr[{i}]/td[6]').text\n",
    "        appraised = driver.find_element(By.XPATH, f'/html/body/div[4]/div[4]/div[2]/table/tbody/tr[{i}]/td[10]').text\n",
    "        \n",
    "        #go into each property and get more details\n",
    "        click_property = driver.find_element(By.XPATH, f'/html/body/div[4]/div[4]/div[2]/table/tbody/tr[{i}]')\n",
    "        click_property.click()\n",
    "        \n",
    "        land_size = driver.find_element(By.XPATH, f'/html/body/div[4]/div[1]/div[5]/div[2]/table/tbody/tr[2]/td[4]').text\n",
    "        land_value = driver.find_element(By.XPATH, f'/html/body/div[4]/div[1]/div[5]/div[2]/table/tbody/tr[2]/td[7]').text\n",
    "        \n",
    "        # in case any of the following don't exist. (I.E. the lot is land only)\n",
    "        try:\n",
    "            improvement = driver.find_element(By.XPATH, f'/html/body/div[4]/div[1]/div[2]/div[2]/div/table/tbody/tr[3]/td').text\n",
    "        except NoSuchElementException:\n",
    "            improvement = 0\n",
    "        if improvement != '$0 (+)':\n",
    "            try:\n",
    "                imp_sqft = driver.find_element(By.XPATH, f'/html/body/div[4]/div[1]/div[4]/div[2]/div[1]/span[3]').text\n",
    "                if 'State' in imp_sqft: #some of the pages are not consistent formatting, handles that\n",
    "                    imp_sqft = driver.find_element(By.XPATH, f'/html/body/div[4]/div[1]/div[4]/div[2]/div[1]/span[4]').text\n",
    "            except NoSuchElementException:\n",
    "                imp_sqft = 0\n",
    "\n",
    "            try:\n",
    "                year = driver.find_element(By.XPATH,f'/html/body/div[4]/div[1]/div[4]/div[2]/table/tbody/tr[2]/td[5]').text\n",
    "            except NoSuchElementException:\n",
    "                year = 'Nan'\n",
    "\n",
    "            try:\n",
    "                bldg_class = driver.find_element(By.XPATH, f'/html/body/div[4]/div[1]/div[4]/div[2]/table/tbody/tr[2]/td[3]').text\n",
    "            except NoSuchElementException:\n",
    "                bldg_class = 'Nan'\n",
    "        else:\n",
    "            imp_sqft = 0\n",
    "            year = 'Nan'\n",
    "            bldg_class = 'Nan'\n",
    "\n",
    "        \n",
    "        lot_info = lot(prop_id, geo_id, name, appraised, land_value,land_size, improvement, imp_sqft, year, bldg_class)\n",
    "        lots.append(lot_info)\n",
    "        driver.back()\n",
    "    finish = time.time()\n",
    "    print(f\"Took {round(finish-start,2)} seconds\")\n",
    "\n",
    "\n"
   ]
  },
  {
   "cell_type": "markdown",
   "id": "87ba1e07",
   "metadata": {},
   "source": [
    "### Clean Data and Set Dtypes\n"
   ]
  },
  {
   "cell_type": "code",
   "execution_count": 18,
   "id": "1d3f5b17",
   "metadata": {},
   "outputs": [],
   "source": [
    "# clean data through class methods\n",
    "for entry in lots:\n",
    "    entry.set_dtypes()"
   ]
  },
  {
   "cell_type": "markdown",
   "id": "c535d54f",
   "metadata": {},
   "source": [
    "### Converting gathered data into csv export"
   ]
  },
  {
   "cell_type": "code",
   "execution_count": 19,
   "id": "27e205ef",
   "metadata": {},
   "outputs": [],
   "source": [
    "def convert_to_csv():\n",
    "    '''convert and export to csv for further data handling'''\n",
    "    attribute_names = list(vars(lots[0]).keys())\n",
    "    data = [{attr: getattr(lot, attr) for attr in attribute_names} for lot in lots]\n",
    "    df = pd.DataFrame(data)\n",
    "    df.to_csv(f'{year}_data.csv', index = False)"
   ]
  },
  {
   "cell_type": "markdown",
   "id": "682d1838",
   "metadata": {},
   "source": [
    "# Main aggregation of functions in main()"
   ]
  },
  {
   "cell_type": "code",
   "execution_count": 20,
   "id": "be0ecd26",
   "metadata": {},
   "outputs": [],
   "source": [
    "def main():\n",
    "    '''invoke the main function to run all the other code'''\n",
    "    collect(web_url,year)\n",
    "    convert_to_csv()"
   ]
  },
  {
   "cell_type": "code",
   "execution_count": 21,
   "id": "219b6249",
   "metadata": {},
   "outputs": [
    {
     "name": "stderr",
     "output_type": "stream",
     "text": [
      "Processing rows: 100%|█████████████████████████| 60/60 [01:18<00:00,  1.31s/row]"
     ]
    },
    {
     "name": "stdout",
     "output_type": "stream",
     "text": [
      "Took 78.79 seconds\n"
     ]
    },
    {
     "name": "stderr",
     "output_type": "stream",
     "text": [
      "\n"
     ]
    }
   ],
   "source": [
    "if __name__ == '__main__':\n",
    "    main()"
   ]
  },
  {
   "cell_type": "markdown",
   "id": "95a207d8-340d-46eb-84e0-a7a1db57ea71",
   "metadata": {},
   "source": [
    "# Testing Output Data"
   ]
  },
  {
   "cell_type": "code",
   "execution_count": 23,
   "id": "46f82e5d",
   "metadata": {},
   "outputs": [],
   "source": [
    "df = pd.read_csv(f'{year}_data.csv')"
   ]
  },
  {
   "cell_type": "code",
   "execution_count": 26,
   "id": "554de9f3",
   "metadata": {},
   "outputs": [
    {
     "data": {
      "text/html": [
       "<div>\n",
       "<style scoped>\n",
       "    .dataframe tbody tr th:only-of-type {\n",
       "        vertical-align: middle;\n",
       "    }\n",
       "\n",
       "    .dataframe tbody tr th {\n",
       "        vertical-align: top;\n",
       "    }\n",
       "\n",
       "    .dataframe thead th {\n",
       "        text-align: right;\n",
       "    }\n",
       "</style>\n",
       "<table border=\"1\" class=\"dataframe\">\n",
       "  <thead>\n",
       "    <tr style=\"text-align: right;\">\n",
       "      <th></th>\n",
       "      <th>prop_id</th>\n",
       "      <th>geo_id</th>\n",
       "      <th>name</th>\n",
       "      <th>appraised</th>\n",
       "      <th>land_value</th>\n",
       "      <th>land_size</th>\n",
       "      <th>improved_value</th>\n",
       "      <th>imp_sqft</th>\n",
       "      <th>year</th>\n",
       "      <th>bldg_class</th>\n",
       "      <th>dollar_sqft</th>\n",
       "    </tr>\n",
       "  </thead>\n",
       "  <tbody>\n",
       "    <tr>\n",
       "      <th>0</th>\n",
       "      <td>221853</td>\n",
       "      <td>4275-0000-0001-000</td>\n",
       "      <td>CASON GREGORY A &amp; JONICA A</td>\n",
       "      <td>$289,040</td>\n",
       "      <td>$289,040</td>\n",
       "      <td>17,986.00</td>\n",
       "      <td>$0 (+)</td>\n",
       "      <td>0</td>\n",
       "      <td>Nan</td>\n",
       "      <td>Nan</td>\n",
       "      <td>NaN</td>\n",
       "    </tr>\n",
       "    <tr>\n",
       "      <th>1</th>\n",
       "      <td>221854</td>\n",
       "      <td>4275-0000-0003-000</td>\n",
       "      <td>CASON GREGORY A &amp; JONICA A</td>\n",
       "      <td>$770,000</td>\n",
       "      <td>$163,500</td>\n",
       "      <td>8,175.00</td>\n",
       "      <td>$606,500 (+)</td>\n",
       "      <td>Living Area: 2,577.00sqft</td>\n",
       "      <td>2016</td>\n",
       "      <td>BH14</td>\n",
       "      <td>NaN</td>\n",
       "    </tr>\n",
       "    <tr>\n",
       "      <th>2</th>\n",
       "      <td>221855</td>\n",
       "      <td>4275-0000-0004-000</td>\n",
       "      <td>MORRIS GARRETT &amp; JENNIFER</td>\n",
       "      <td>$535,520</td>\n",
       "      <td>$161,660</td>\n",
       "      <td>8,083.00</td>\n",
       "      <td>$373,860 (+)</td>\n",
       "      <td>Living Area: 1,564.00sqft</td>\n",
       "      <td>2014</td>\n",
       "      <td>BH12</td>\n",
       "      <td>NaN</td>\n",
       "    </tr>\n",
       "    <tr>\n",
       "      <th>3</th>\n",
       "      <td>221856</td>\n",
       "      <td>4275-0000-0005-000</td>\n",
       "      <td>COLLINS WILLIAM DAVID</td>\n",
       "      <td>$769,960</td>\n",
       "      <td>$161,660</td>\n",
       "      <td>8,083.00</td>\n",
       "      <td>$608,300 (+)</td>\n",
       "      <td>Living Area: 2,209.00sqft</td>\n",
       "      <td>2014</td>\n",
       "      <td>BH14</td>\n",
       "      <td>NaN</td>\n",
       "    </tr>\n",
       "    <tr>\n",
       "      <th>4</th>\n",
       "      <td>221859</td>\n",
       "      <td>4275-0000-0008-000</td>\n",
       "      <td>IVY KEITH</td>\n",
       "      <td>$140,000</td>\n",
       "      <td>$140,000</td>\n",
       "      <td>9,872.00</td>\n",
       "      <td>$0 (+)</td>\n",
       "      <td>0</td>\n",
       "      <td>Nan</td>\n",
       "      <td>Nan</td>\n",
       "      <td>NaN</td>\n",
       "    </tr>\n",
       "    <tr>\n",
       "      <th>5</th>\n",
       "      <td>221860</td>\n",
       "      <td>4275-0000-0009-000</td>\n",
       "      <td>STANDLEE JENNIFER SUTTON &amp; PATRICIA BESSOLO</td>\n",
       "      <td>$605,520</td>\n",
       "      <td>$38,710</td>\n",
       "      <td>5,530.00</td>\n",
       "      <td>$566,810 (+)</td>\n",
       "      <td>Living Area: 1,408.00sqft</td>\n",
       "      <td>2007</td>\n",
       "      <td>BH14</td>\n",
       "      <td>NaN</td>\n",
       "    </tr>\n",
       "    <tr>\n",
       "      <th>6</th>\n",
       "      <td>221861</td>\n",
       "      <td>4275-0000-0010-000</td>\n",
       "      <td>STEPCHINSKI RANDY K &amp; EMILY G</td>\n",
       "      <td>$368,904</td>\n",
       "      <td>$38,710</td>\n",
       "      <td>5,530.00</td>\n",
       "      <td>$0 (+)</td>\n",
       "      <td>0</td>\n",
       "      <td>Nan</td>\n",
       "      <td>Nan</td>\n",
       "      <td>NaN</td>\n",
       "    </tr>\n",
       "    <tr>\n",
       "      <th>7</th>\n",
       "      <td>221863</td>\n",
       "      <td>4275-0000-0012-000</td>\n",
       "      <td>ETOYAN MARINE</td>\n",
       "      <td>$512,390</td>\n",
       "      <td>$30,420</td>\n",
       "      <td>5,530.00</td>\n",
       "      <td>$451,550 (+)</td>\n",
       "      <td>Living Area: 1,368.00sqft</td>\n",
       "      <td>2012</td>\n",
       "      <td>BH14</td>\n",
       "      <td>NaN</td>\n",
       "    </tr>\n",
       "    <tr>\n",
       "      <th>8</th>\n",
       "      <td>221866</td>\n",
       "      <td>4275-0000-0015-000</td>\n",
       "      <td>WIMBERLY WARREN R &amp; KEL LEE</td>\n",
       "      <td>$349,560</td>\n",
       "      <td>$30,420</td>\n",
       "      <td>5,530.00</td>\n",
       "      <td>$319,140 (+)</td>\n",
       "      <td>Living Area: 1,216.00sqft</td>\n",
       "      <td>2016</td>\n",
       "      <td>BH12</td>\n",
       "      <td>NaN</td>\n",
       "    </tr>\n",
       "    <tr>\n",
       "      <th>9</th>\n",
       "      <td>221867</td>\n",
       "      <td>4275-0000-0016-000</td>\n",
       "      <td>FERRETT FRANCES</td>\n",
       "      <td>$30,420</td>\n",
       "      <td>$30,420</td>\n",
       "      <td>5,530.00</td>\n",
       "      <td>$0 (+)</td>\n",
       "      <td>0</td>\n",
       "      <td>Nan</td>\n",
       "      <td>Nan</td>\n",
       "      <td>NaN</td>\n",
       "    </tr>\n",
       "  </tbody>\n",
       "</table>\n",
       "</div>"
      ],
      "text/plain": [
       "   prop_id              geo_id                                         name  \\\n",
       "0   221853  4275-0000-0001-000                   CASON GREGORY A & JONICA A   \n",
       "1   221854  4275-0000-0003-000                   CASON GREGORY A & JONICA A   \n",
       "2   221855  4275-0000-0004-000                    MORRIS GARRETT & JENNIFER   \n",
       "3   221856  4275-0000-0005-000                        COLLINS WILLIAM DAVID   \n",
       "4   221859  4275-0000-0008-000                                    IVY KEITH   \n",
       "5   221860  4275-0000-0009-000  STANDLEE JENNIFER SUTTON & PATRICIA BESSOLO   \n",
       "6   221861  4275-0000-0010-000                STEPCHINSKI RANDY K & EMILY G   \n",
       "7   221863  4275-0000-0012-000                                ETOYAN MARINE   \n",
       "8   221866  4275-0000-0015-000                  WIMBERLY WARREN R & KEL LEE   \n",
       "9   221867  4275-0000-0016-000                              FERRETT FRANCES   \n",
       "\n",
       "  appraised land_value  land_size improved_value                   imp_sqft  \\\n",
       "0  $289,040   $289,040  17,986.00         $0 (+)                          0   \n",
       "1  $770,000   $163,500   8,175.00   $606,500 (+)  Living Area: 2,577.00sqft   \n",
       "2  $535,520   $161,660   8,083.00   $373,860 (+)  Living Area: 1,564.00sqft   \n",
       "3  $769,960   $161,660   8,083.00   $608,300 (+)  Living Area: 2,209.00sqft   \n",
       "4  $140,000   $140,000   9,872.00         $0 (+)                          0   \n",
       "5  $605,520    $38,710   5,530.00   $566,810 (+)  Living Area: 1,408.00sqft   \n",
       "6  $368,904    $38,710   5,530.00         $0 (+)                          0   \n",
       "7  $512,390    $30,420   5,530.00   $451,550 (+)  Living Area: 1,368.00sqft   \n",
       "8  $349,560    $30,420   5,530.00   $319,140 (+)  Living Area: 1,216.00sqft   \n",
       "9   $30,420    $30,420   5,530.00         $0 (+)                          0   \n",
       "\n",
       "   year bldg_class  dollar_sqft  \n",
       "0   Nan        Nan          NaN  \n",
       "1  2016       BH14          NaN  \n",
       "2  2014       BH12          NaN  \n",
       "3  2014       BH14          NaN  \n",
       "4   Nan        Nan          NaN  \n",
       "5  2007       BH14          NaN  \n",
       "6   Nan        Nan          NaN  \n",
       "7  2012       BH14          NaN  \n",
       "8  2016       BH12          NaN  \n",
       "9   Nan        Nan          NaN  "
      ]
     },
     "execution_count": 26,
     "metadata": {},
     "output_type": "execute_result"
    }
   ],
   "source": [
    "df.head(10)"
   ]
  },
  {
   "cell_type": "code",
   "execution_count": 29,
   "id": "f24bfe85-3e3f-4cb3-abea-e82d9a845c30",
   "metadata": {},
   "outputs": [
    {
     "name": "stdout",
     "output_type": "stream",
     "text": [
      "<class 'pandas.core.frame.DataFrame'>\n",
      "RangeIndex: 60 entries, 0 to 59\n",
      "Data columns (total 11 columns):\n",
      " #   Column          Non-Null Count  Dtype  \n",
      "---  ------          --------------  -----  \n",
      " 0   prop_id         60 non-null     int64  \n",
      " 1   geo_id          60 non-null     object \n",
      " 2   name            60 non-null     object \n",
      " 3   appraised       60 non-null     object \n",
      " 4   land_value      60 non-null     object \n",
      " 5   land_size       60 non-null     object \n",
      " 6   improved_value  60 non-null     object \n",
      " 7   imp_sqft        60 non-null     object \n",
      " 8   year            59 non-null     object \n",
      " 9   bldg_class      60 non-null     object \n",
      " 10  dollar_sqft     0 non-null      float64\n",
      "dtypes: float64(1), int64(1), object(9)\n",
      "memory usage: 5.3+ KB\n"
     ]
    }
   ],
   "source": [
    "df.info()"
   ]
  },
  {
   "cell_type": "code",
   "execution_count": null,
   "id": "627cd723-fdd9-4942-9711-fe897bacc653",
   "metadata": {},
   "outputs": [],
   "source": []
  }
 ],
 "metadata": {
  "kernelspec": {
   "display_name": "Python 3 (ipykernel)",
   "language": "python",
   "name": "python3"
  },
  "language_info": {
   "codemirror_mode": {
    "name": "ipython",
    "version": 3
   },
   "file_extension": ".py",
   "mimetype": "text/x-python",
   "name": "python",
   "nbconvert_exporter": "python",
   "pygments_lexer": "ipython3",
   "version": "3.12.1"
  }
 },
 "nbformat": 4,
 "nbformat_minor": 5
}
