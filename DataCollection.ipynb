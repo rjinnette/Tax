{
 "cells": [
  {
   "cell_type": "markdown",
   "id": "95c6193e",
   "metadata": {},
   "source": [
    "# Tax Appeal\n",
    "### Created by: Ryan Jinnette\n",
    "\n",
    "#### This file uses selenium and pandas to scrape county website for tax records that will be used for analysis to fair price valuation"
   ]
  },
  {
   "cell_type": "markdown",
   "id": "f4afcfc3",
   "metadata": {},
   "source": [
    "## Set Up and Imports"
   ]
  },
  {
   "cell_type": "code",
   "execution_count": 1,
   "id": "b9face3f",
   "metadata": {},
   "outputs": [],
   "source": [
    "# !pip install selenium\n",
    "# !pip install pandas\n",
    "\n",
    "import pandas as pd\n",
    "from selenium.webdriver.common.by import By\n",
    "from selenium import webdriver\n",
    "import chromedriver_autoinstaller\n",
    "import time\n",
    "from selenium.webdriver.support.ui import WebDriverWait\n",
    "from selenium.common.exceptions import NoSuchElementException\n",
    "\n",
    "#import timeit"
   ]
  },
  {
   "cell_type": "markdown",
   "id": "83891cda",
   "metadata": {},
   "source": [
    "## Constants and Class Definitions"
   ]
  },
  {
   "cell_type": "code",
   "execution_count": 2,
   "id": "3a37ea15",
   "metadata": {},
   "outputs": [],
   "source": [
    "lots = []\n",
    "\n",
    "class lot:\n",
    "    '''This class provides a framework to store data more easily instead of multiple lists.\n",
    "    I can reference just the instance of the class'''\n",
    "    def __init__(self, prop_id=None, geo_id=None, name=None, appraised=None, land_value=None, land_size=None, improved_value=None, sqft=None, year=None, bldg_class=None):\n",
    "        self.prop_id = prop_id\n",
    "        self.geo_id = geo_id\n",
    "        self.name = name\n",
    "        self.appraised = appraised\n",
    "        self.land_value = land_value\n",
    "        self.land_size = land_size\n",
    "        self.improved_value = improved_value\n",
    "        self.imp_sqft = sqft\n",
    "        self.year = year\n",
    "        self.bldg_class = bldg_class\n",
    "        self.dollar_sqft = None\n",
    "    \n",
    "    def set_dtypes(self):\n",
    "        '''used to keep things consistent so that math can be done on all cells and not throw errors'''\n",
    "        self.improved_value = float(self.improved_value.replace('(+)','').replace(',','').replace('$',''))\n",
    "        self.appraised = float(self.appraised.replace(',','').replace('$',''))\n",
    "        self.land_value = float(self.land_value.replace(',','').replace('$',''))\n",
    "        self.land_size = float(self.land_size.replace(',',''))\n",
    "        if self.imp_sqft != 0:\n",
    "            self.imp_sqft = float(self.imp_sqft[13:-4].strip().replace(',',''))\n",
    "            \n"
   ]
  },
  {
   "cell_type": "code",
   "execution_count": 3,
   "id": "8ad976bf",
   "metadata": {},
   "outputs": [],
   "source": [
    "web_url = r'https://esearch.galvestoncad.org/Search/Result?keywords=Johnson%20Crawford#'\n"
   ]
  },
  {
   "cell_type": "markdown",
   "id": "18928c1e",
   "metadata": {},
   "source": [
    "## Data Collection\n",
    "#### Iterates over the webpage and grabs all necessary data, adds to the class and uses the XPATH of certain items to track them on the page for easy identification and repeatability"
   ]
  },
  {
   "cell_type": "code",
   "execution_count": 4,
   "id": "d497a02c",
   "metadata": {},
   "outputs": [
    {
     "ename": "NoSuchElementException",
     "evalue": "Message: no such element: Unable to locate element: {\"method\":\"xpath\",\"selector\":\"/html/body/div[4]/div[4]/div[2]/table/tbody/tr[27]/td[1]\"}\n  (Session info: headless chrome=119.0.6045.159); For documentation on this error, please visit: https://www.selenium.dev/documentation/webdriver/troubleshooting/errors#no-such-element-exception\nStacktrace:\n0   chromedriver                        0x00000001008e6004 chromedriver + 4169732\n1   chromedriver                        0x00000001008ddff8 chromedriver + 4136952\n2   chromedriver                        0x0000000100533500 chromedriver + 292096\n3   chromedriver                        0x00000001005787a0 chromedriver + 575392\n4   chromedriver                        0x00000001005b3818 chromedriver + 817176\n5   chromedriver                        0x000000010056c5e8 chromedriver + 525800\n6   chromedriver                        0x000000010056d4b8 chromedriver + 529592\n7   chromedriver                        0x00000001008ac334 chromedriver + 3932980\n8   chromedriver                        0x00000001008b0970 chromedriver + 3950960\n9   chromedriver                        0x0000000100894774 chromedriver + 3835764\n10  chromedriver                        0x00000001008b1478 chromedriver + 3953784\n11  chromedriver                        0x0000000100886ab4 chromedriver + 3779252\n12  chromedriver                        0x00000001008cd914 chromedriver + 4069652\n13  chromedriver                        0x00000001008cda90 chromedriver + 4070032\n14  chromedriver                        0x00000001008ddc70 chromedriver + 4136048\n15  libsystem_pthread.dylib             0x00000001846affa8 _pthread_start + 148\n16  libsystem_pthread.dylib             0x00000001846aada0 thread_start + 8\n",
     "output_type": "error",
     "traceback": [
      "\u001b[0;31m---------------------------------------------------------------------------\u001b[0m",
      "\u001b[0;31mNoSuchElementException\u001b[0m                    Traceback (most recent call last)",
      "Cell \u001b[0;32mIn[4], line 71\u001b[0m\n\u001b[1;32m     68\u001b[0m     finish \u001b[38;5;241m=\u001b[39m time\u001b[38;5;241m.\u001b[39mtime()\n\u001b[1;32m     69\u001b[0m     \u001b[38;5;28mprint\u001b[39m(\u001b[38;5;124mf\u001b[39m\u001b[38;5;124m\"\u001b[39m\u001b[38;5;124mtook \u001b[39m\u001b[38;5;132;01m{\u001b[39;00m\u001b[38;5;28mround\u001b[39m(finish\u001b[38;5;241m-\u001b[39mstart,\u001b[38;5;241m2\u001b[39m)\u001b[38;5;132;01m}\u001b[39;00m\u001b[38;5;124m seconds\u001b[39m\u001b[38;5;124m\"\u001b[39m)\n\u001b[0;32m---> 71\u001b[0m \u001b[43mcollect\u001b[49m\u001b[43m(\u001b[49m\u001b[43mweb_url\u001b[49m\u001b[43m)\u001b[49m\n",
      "Cell \u001b[0;32mIn[4], line 25\u001b[0m, in \u001b[0;36mcollect\u001b[0;34m(web_url)\u001b[0m\n\u001b[1;32m     19\u001b[0m start \u001b[38;5;241m=\u001b[39m time\u001b[38;5;241m.\u001b[39mtime()\n\u001b[1;32m     21\u001b[0m \u001b[38;5;28;01mfor\u001b[39;00m i \u001b[38;5;129;01min\u001b[39;00m \u001b[38;5;28mrange\u001b[39m(\u001b[38;5;241m2\u001b[39m, \u001b[38;5;28mlen\u001b[39m(rows)\u001b[38;5;241m+\u001b[39m\u001b[38;5;241m1\u001b[39m):\n\u001b[1;32m     22\u001b[0m     \n\u001b[1;32m     23\u001b[0m     \n\u001b[1;32m     24\u001b[0m     \u001b[38;5;66;03m# this grabs all initially avail info, will have to go into each property next\u001b[39;00m\n\u001b[0;32m---> 25\u001b[0m     prop_id \u001b[38;5;241m=\u001b[39m \u001b[43mdriver\u001b[49m\u001b[38;5;241;43m.\u001b[39;49m\u001b[43mfind_element\u001b[49m\u001b[43m(\u001b[49m\u001b[43mBy\u001b[49m\u001b[38;5;241;43m.\u001b[39;49m\u001b[43mXPATH\u001b[49m\u001b[43m,\u001b[49m\u001b[43m \u001b[49m\u001b[38;5;124;43mf\u001b[39;49m\u001b[38;5;124;43m'\u001b[39;49m\u001b[38;5;124;43m/html/body/div[4]/div[4]/div[2]/table/tbody/tr[\u001b[39;49m\u001b[38;5;132;43;01m{\u001b[39;49;00m\u001b[43mi\u001b[49m\u001b[38;5;132;43;01m}\u001b[39;49;00m\u001b[38;5;124;43m]/td[1]\u001b[39;49m\u001b[38;5;124;43m'\u001b[39;49m\u001b[43m)\u001b[49m\u001b[38;5;241m.\u001b[39mtext\n\u001b[1;32m     26\u001b[0m     geo_id \u001b[38;5;241m=\u001b[39m driver\u001b[38;5;241m.\u001b[39mfind_element(By\u001b[38;5;241m.\u001b[39mXPATH, \u001b[38;5;124mf\u001b[39m\u001b[38;5;124m'\u001b[39m\u001b[38;5;124m/html/body/div[4]/div[4]/div[2]/table/tbody/tr[\u001b[39m\u001b[38;5;132;01m{\u001b[39;00mi\u001b[38;5;132;01m}\u001b[39;00m\u001b[38;5;124m]/td[3]\u001b[39m\u001b[38;5;124m'\u001b[39m)\u001b[38;5;241m.\u001b[39mtext\n\u001b[1;32m     27\u001b[0m     name \u001b[38;5;241m=\u001b[39m driver\u001b[38;5;241m.\u001b[39mfind_element(By\u001b[38;5;241m.\u001b[39mXPATH, \u001b[38;5;124mf\u001b[39m\u001b[38;5;124m'\u001b[39m\u001b[38;5;124m/html/body/div[4]/div[4]/div[2]/table/tbody/tr[\u001b[39m\u001b[38;5;132;01m{\u001b[39;00mi\u001b[38;5;132;01m}\u001b[39;00m\u001b[38;5;124m]/td[6]\u001b[39m\u001b[38;5;124m'\u001b[39m)\u001b[38;5;241m.\u001b[39mtext\n",
      "File \u001b[0;32m/Library/Frameworks/Python.framework/Versions/3.10/lib/python3.10/site-packages/selenium/webdriver/remote/webdriver.py:741\u001b[0m, in \u001b[0;36mWebDriver.find_element\u001b[0;34m(self, by, value)\u001b[0m\n\u001b[1;32m    738\u001b[0m     by \u001b[38;5;241m=\u001b[39m By\u001b[38;5;241m.\u001b[39mCSS_SELECTOR\n\u001b[1;32m    739\u001b[0m     value \u001b[38;5;241m=\u001b[39m \u001b[38;5;124mf\u001b[39m\u001b[38;5;124m'\u001b[39m\u001b[38;5;124m[name=\u001b[39m\u001b[38;5;124m\"\u001b[39m\u001b[38;5;132;01m{\u001b[39;00mvalue\u001b[38;5;132;01m}\u001b[39;00m\u001b[38;5;124m\"\u001b[39m\u001b[38;5;124m]\u001b[39m\u001b[38;5;124m'\u001b[39m\n\u001b[0;32m--> 741\u001b[0m \u001b[38;5;28;01mreturn\u001b[39;00m \u001b[38;5;28;43mself\u001b[39;49m\u001b[38;5;241;43m.\u001b[39;49m\u001b[43mexecute\u001b[49m\u001b[43m(\u001b[49m\u001b[43mCommand\u001b[49m\u001b[38;5;241;43m.\u001b[39;49m\u001b[43mFIND_ELEMENT\u001b[49m\u001b[43m,\u001b[49m\u001b[43m \u001b[49m\u001b[43m{\u001b[49m\u001b[38;5;124;43m\"\u001b[39;49m\u001b[38;5;124;43musing\u001b[39;49m\u001b[38;5;124;43m\"\u001b[39;49m\u001b[43m:\u001b[49m\u001b[43m \u001b[49m\u001b[43mby\u001b[49m\u001b[43m,\u001b[49m\u001b[43m \u001b[49m\u001b[38;5;124;43m\"\u001b[39;49m\u001b[38;5;124;43mvalue\u001b[39;49m\u001b[38;5;124;43m\"\u001b[39;49m\u001b[43m:\u001b[49m\u001b[43m \u001b[49m\u001b[43mvalue\u001b[49m\u001b[43m}\u001b[49m\u001b[43m)\u001b[49m[\u001b[38;5;124m\"\u001b[39m\u001b[38;5;124mvalue\u001b[39m\u001b[38;5;124m\"\u001b[39m]\n",
      "File \u001b[0;32m/Library/Frameworks/Python.framework/Versions/3.10/lib/python3.10/site-packages/selenium/webdriver/remote/webdriver.py:347\u001b[0m, in \u001b[0;36mWebDriver.execute\u001b[0;34m(self, driver_command, params)\u001b[0m\n\u001b[1;32m    345\u001b[0m response \u001b[38;5;241m=\u001b[39m \u001b[38;5;28mself\u001b[39m\u001b[38;5;241m.\u001b[39mcommand_executor\u001b[38;5;241m.\u001b[39mexecute(driver_command, params)\n\u001b[1;32m    346\u001b[0m \u001b[38;5;28;01mif\u001b[39;00m response:\n\u001b[0;32m--> 347\u001b[0m     \u001b[38;5;28;43mself\u001b[39;49m\u001b[38;5;241;43m.\u001b[39;49m\u001b[43merror_handler\u001b[49m\u001b[38;5;241;43m.\u001b[39;49m\u001b[43mcheck_response\u001b[49m\u001b[43m(\u001b[49m\u001b[43mresponse\u001b[49m\u001b[43m)\u001b[49m\n\u001b[1;32m    348\u001b[0m     response[\u001b[38;5;124m\"\u001b[39m\u001b[38;5;124mvalue\u001b[39m\u001b[38;5;124m\"\u001b[39m] \u001b[38;5;241m=\u001b[39m \u001b[38;5;28mself\u001b[39m\u001b[38;5;241m.\u001b[39m_unwrap_value(response\u001b[38;5;241m.\u001b[39mget(\u001b[38;5;124m\"\u001b[39m\u001b[38;5;124mvalue\u001b[39m\u001b[38;5;124m\"\u001b[39m, \u001b[38;5;28;01mNone\u001b[39;00m))\n\u001b[1;32m    349\u001b[0m     \u001b[38;5;28;01mreturn\u001b[39;00m response\n",
      "File \u001b[0;32m/Library/Frameworks/Python.framework/Versions/3.10/lib/python3.10/site-packages/selenium/webdriver/remote/errorhandler.py:229\u001b[0m, in \u001b[0;36mErrorHandler.check_response\u001b[0;34m(self, response)\u001b[0m\n\u001b[1;32m    227\u001b[0m         alert_text \u001b[38;5;241m=\u001b[39m value[\u001b[38;5;124m\"\u001b[39m\u001b[38;5;124malert\u001b[39m\u001b[38;5;124m\"\u001b[39m]\u001b[38;5;241m.\u001b[39mget(\u001b[38;5;124m\"\u001b[39m\u001b[38;5;124mtext\u001b[39m\u001b[38;5;124m\"\u001b[39m)\n\u001b[1;32m    228\u001b[0m     \u001b[38;5;28;01mraise\u001b[39;00m exception_class(message, screen, stacktrace, alert_text)  \u001b[38;5;66;03m# type: ignore[call-arg]  # mypy is not smart enough here\u001b[39;00m\n\u001b[0;32m--> 229\u001b[0m \u001b[38;5;28;01mraise\u001b[39;00m exception_class(message, screen, stacktrace)\n",
      "\u001b[0;31mNoSuchElementException\u001b[0m: Message: no such element: Unable to locate element: {\"method\":\"xpath\",\"selector\":\"/html/body/div[4]/div[4]/div[2]/table/tbody/tr[27]/td[1]\"}\n  (Session info: headless chrome=119.0.6045.159); For documentation on this error, please visit: https://www.selenium.dev/documentation/webdriver/troubleshooting/errors#no-such-element-exception\nStacktrace:\n0   chromedriver                        0x00000001008e6004 chromedriver + 4169732\n1   chromedriver                        0x00000001008ddff8 chromedriver + 4136952\n2   chromedriver                        0x0000000100533500 chromedriver + 292096\n3   chromedriver                        0x00000001005787a0 chromedriver + 575392\n4   chromedriver                        0x00000001005b3818 chromedriver + 817176\n5   chromedriver                        0x000000010056c5e8 chromedriver + 525800\n6   chromedriver                        0x000000010056d4b8 chromedriver + 529592\n7   chromedriver                        0x00000001008ac334 chromedriver + 3932980\n8   chromedriver                        0x00000001008b0970 chromedriver + 3950960\n9   chromedriver                        0x0000000100894774 chromedriver + 3835764\n10  chromedriver                        0x00000001008b1478 chromedriver + 3953784\n11  chromedriver                        0x0000000100886ab4 chromedriver + 3779252\n12  chromedriver                        0x00000001008cd914 chromedriver + 4069652\n13  chromedriver                        0x00000001008cda90 chromedriver + 4070032\n14  chromedriver                        0x00000001008ddc70 chromedriver + 4136048\n15  libsystem_pthread.dylib             0x00000001846affa8 _pthread_start + 148\n16  libsystem_pthread.dylib             0x00000001846aada0 thread_start + 8\n"
     ]
    }
   ],
   "source": [
    "def collect(web_url):\n",
    "    #options = webdriver.ChromeOptions()\n",
    "    #options.add_argument('--headless')\n",
    "    #driver = webdriver.Chrome(options = options)\n",
    "    driver = webdriver.Chrome()\n",
    "    driver.get(web_url)\n",
    "    driver.implicitly_wait(2) # dynamic waiting to see when any certain searched for object becomes available\n",
    "    time.sleep(2)\n",
    "    \n",
    "    #change the list view to 100 instead of default 25\n",
    "    btn = driver.find_element(By.ID, 'btnFilterByPage')\n",
    "    btn.click()\n",
    "    \n",
    "    btn = driver.find_element(By.XPATH, '/html/body/div[4]/div[3]/div/span[3]/ul/li[3]')\n",
    "    btn.click()\n",
    "    \n",
    "    time.sleep(2)\n",
    "\n",
    "    rows = driver.find_elements(By.XPATH, '/html/body/div[4]/div[4]/div[2]/table/tbody/tr')\n",
    "    start = time.time()\n",
    "    \n",
    "    for i in range(2, len(rows)+1):\n",
    "        \n",
    "        \n",
    "        # this grabs all initially avail info, will have to go into each property next\n",
    "        prop_id = driver.find_element(By.XPATH, f'/html/body/div[4]/div[4]/div[2]/table/tbody/tr[{i}]/td[1]').text\n",
    "        geo_id = driver.find_element(By.XPATH, f'/html/body/div[4]/div[4]/div[2]/table/tbody/tr[{i}]/td[3]').text\n",
    "        name = driver.find_element(By.XPATH, f'/html/body/div[4]/div[4]/div[2]/table/tbody/tr[{i}]/td[6]').text\n",
    "        appraised = driver.find_element(By.XPATH, f'/html/body/div[4]/div[4]/div[2]/table/tbody/tr[{i}]/td[10]').text\n",
    "        \n",
    "        #go into each property and get more details\n",
    "        click_property = driver.find_element(By.XPATH, f'/html/body/div[4]/div[4]/div[2]/table/tbody/tr[{i}]')\n",
    "        click_property.click()\n",
    "        \n",
    "        land_size = driver.find_element(By.XPATH, f'/html/body/div[4]/div[1]/div[5]/div[2]/table/tbody/tr[2]/td[4]').text\n",
    "        land_value = driver.find_element(By.XPATH, f'/html/body/div[4]/div[1]/div[5]/div[2]/table/tbody/tr[2]/td[7]').text\n",
    "        \n",
    "        # in case any of the following don't exist. (I.E. the lot is land only)\n",
    "        try:\n",
    "            improvement = driver.find_element(By.XPATH, f'/html/body/div[4]/div[1]/div[2]/div[2]/div/table/tbody/tr[3]/td').text\n",
    "        except NoSuchElementException:\n",
    "            improvement = 0\n",
    "        if improvement != '$0 (+)':\n",
    "            try:\n",
    "                imp_sqft = driver.find_element(By.XPATH, f'/html/body/div[4]/div[1]/div[4]/div[2]/div[1]/span[3]').text\n",
    "                if 'State' in imp_sqft: #some of the pages are not consistent formatting, handles that\n",
    "                    imp_sqft = driver.find_element(By.XPATH, f'/html/body/div[4]/div[1]/div[4]/div[2]/div[1]/span[4]').text\n",
    "            except NoSuchElementException:\n",
    "                imp_sqft = 0\n",
    "\n",
    "            try:\n",
    "                year = driver.find_element(By.XPATH,f'/html/body/div[4]/div[1]/div[4]/div[2]/table/tbody/tr[2]/td[5]').text\n",
    "            except NoSuchElementException:\n",
    "                year = 'Nan'\n",
    "\n",
    "            try:\n",
    "                bldg_class = driver.find_element(By.XPATH, f'/html/body/div[4]/div[1]/div[4]/div[2]/table/tbody/tr[2]/td[3]').text\n",
    "            except NoSuchElementException:\n",
    "                bldg_class = 'Nan'\n",
    "        else:\n",
    "            imp_sqft = 0\n",
    "            year = 'Nan'\n",
    "            bldg_class = 'Nan'\n",
    "\n",
    "        \n",
    "        lot_info = lot(prop_id, geo_id, name, appraised, land_value,land_size, improvement, imp_sqft, year, bldg_class)\n",
    "        lots.append(lot_info)\n",
    "        driver.back()\n",
    "    finish = time.time()\n",
    "    print(f\"took {round(finish-start,2)} seconds\")\n",
    "        \n",
    "collect(web_url)\n",
    "\n",
    "\n"
   ]
  },
  {
   "cell_type": "code",
   "execution_count": null,
   "id": "219b6249",
   "metadata": {},
   "outputs": [],
   "source": []
  },
  {
   "cell_type": "code",
   "execution_count": null,
   "id": "baf2f478",
   "metadata": {},
   "outputs": [],
   "source": [
    "print(len(lots))\n"
   ]
  },
  {
   "cell_type": "code",
   "execution_count": null,
   "id": "46f82e5d",
   "metadata": {},
   "outputs": [],
   "source": [
    "for lot in lots:\n",
    "    lot.set_dtypes()\n",
    "    print(lot.imp_sqft, type(lot.imp_sqft))"
   ]
  },
  {
   "cell_type": "code",
   "execution_count": null,
   "id": "554de9f3",
   "metadata": {},
   "outputs": [],
   "source": []
  }
 ],
 "metadata": {
  "kernelspec": {
   "display_name": "Python 3 (ipykernel)",
   "language": "python",
   "name": "python3"
  },
  "language_info": {
   "codemirror_mode": {
    "name": "ipython",
    "version": 3
   },
   "file_extension": ".py",
   "mimetype": "text/x-python",
   "name": "python",
   "nbconvert_exporter": "python",
   "pygments_lexer": "ipython3",
   "version": "3.10.6"
  }
 },
 "nbformat": 4,
 "nbformat_minor": 5
}
