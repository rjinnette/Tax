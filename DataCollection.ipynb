{
 "cells": [
  {
   "cell_type": "markdown",
   "id": "95c6193e",
   "metadata": {},
   "source": [
    "# Tax Appeal\n",
    "### Created by: Ryan Jinnette\n",
    "\n",
    "#### This file uses selenium and pandas to scrape county website for tax records that will be used for analysis to fair price valuation"
   ]
  },
  {
   "cell_type": "markdown",
   "id": "f4afcfc3",
   "metadata": {},
   "source": [
    "## Set Up and Imports"
   ]
  },
  {
   "cell_type": "code",
   "execution_count": 56,
   "id": "b9face3f",
   "metadata": {},
   "outputs": [
    {
     "name": "stdout",
     "output_type": "stream",
     "text": [
      "The rpy2.ipython extension is already loaded. To reload it, use:\n",
      "  %reload_ext rpy2.ipython\n"
     ]
    }
   ],
   "source": [
    "# !pip install selenium\n",
    "# !pip install pandas\n",
    "# !pip install rpy2\n",
    "\n",
    "import pandas as pd\n",
    "from selenium.webdriver.common.by import By\n",
    "from selenium import webdriver\n",
    "import chromedriver_autoinstaller\n",
    "import time\n",
    "from selenium.webdriver.support.ui import WebDriverWait\n",
    "from selenium.common.exceptions import NoSuchElementException\n",
    "from tqdm import tqdm\n",
    "import rpy2\n",
    "%load_ext rpy2.ipython\n",
    "\n",
    "#import timeit"
   ]
  },
  {
   "cell_type": "markdown",
   "id": "83891cda",
   "metadata": {},
   "source": [
    "## Constants and Class Definitions"
   ]
  },
  {
   "cell_type": "code",
   "execution_count": 57,
   "id": "3a37ea15",
   "metadata": {},
   "outputs": [],
   "source": [
    "class lot:\n",
    "    '''This class provides a framework to store data more easily instead of multiple lists.\n",
    "    I can reference just the instance of the class'''\n",
    "    def __init__(self, prop_id=None, geo_id=None, name=None, appraised=None, land_value=None, land_size=None, improved_value=None, sqft=None, year=None, bldg_class=None):\n",
    "        self.prop_id = prop_id\n",
    "        self.geo_id = geo_id\n",
    "        self.name = name\n",
    "        self.appraised = appraised\n",
    "        self.land_value = land_value\n",
    "        self.land_size = land_size\n",
    "        self.improved_value = improved_value\n",
    "        self.imp_sqft = sqft\n",
    "        self.year = year\n",
    "        self.bldg_class = bldg_class\n",
    "        self.dollar_sqft = None\n",
    "    \n",
    "    def set_dtypes(self):\n",
    "        '''used to keep things consistent so that math can be done on all cells and not throw errors'''\n",
    "        self.improved_value = float(self.improved_value.replace('(+)','').replace(',','').replace('$',''))\n",
    "        self.appraised = float(self.appraised.replace(',','').replace('$',''))\n",
    "        self.land_value = float(self.land_value.replace(',','').replace('$',''))\n",
    "        self.land_size = float(self.land_size.replace(',',''))\n",
    "        if self.imp_sqft != 0:\n",
    "            self.imp_sqft = float(self.imp_sqft[13:-4].strip().replace(',',''))\n",
    "            self.dollar_sqft = round(self.improved_value / self.imp_sqft,2)\n",
    "        \n",
    "            \n"
   ]
  },
  {
   "cell_type": "code",
   "execution_count": 58,
   "id": "8ad976bf",
   "metadata": {},
   "outputs": [],
   "source": [
    "lots = []\n",
    "web_url = r'https://esearch.galvestoncad.org/Search/Result?keywords=Johnson%20Crawford#'\n"
   ]
  },
  {
   "cell_type": "markdown",
   "id": "18928c1e",
   "metadata": {},
   "source": [
    "## Data Collection\n",
    "#### Iterates over the webpage and grabs all necessary data, adds to the class and uses the XPATH of certain items to track them on the page for easy identification and repeatability"
   ]
  },
  {
   "cell_type": "code",
   "execution_count": 59,
   "id": "d497a02c",
   "metadata": {},
   "outputs": [
    {
     "name": "stdout",
     "output_type": "stream",
     "text": [
      "took 5.11 seconds\n"
     ]
    }
   ],
   "source": [
    "def collect(web_url):\n",
    "    #options = webdriver.ChromeOptions()\n",
    "    #options.add_argument('--headless')\n",
    "    #driver = webdriver.Chrome(options = options)\n",
    "    driver = webdriver.Chrome()\n",
    "    driver.get(web_url)\n",
    "    driver.implicitly_wait(2) # dynamic waiting to see when any certain searched for object becomes available\n",
    "    time.sleep(2)\n",
    "    \n",
    "    #change the list view to 100 instead of default 25\n",
    "    btn = driver.find_element(By.ID, 'btnFilterByPage')\n",
    "    btn.click()\n",
    "    \n",
    "    btn = driver.find_element(By.XPATH, '/html/body/div[4]/div[3]/div/span[3]/ul/li[3]')\n",
    "    btn.click()\n",
    "    \n",
    "    time.sleep(2)\n",
    "\n",
    "    rows = driver.find_elements(By.XPATH, '/html/body/div[4]/div[4]/div[2]/table/tbody/tr')\n",
    "    start = time.time()\n",
    "    \n",
    "    for i in range(2, len(rows)//10):\n",
    "        \n",
    "        \n",
    "        # this grabs all initially avail info, will have to go into each property next\n",
    "        prop_id = driver.find_element(By.XPATH, f'/html/body/div[4]/div[4]/div[2]/table/tbody/tr[{i}]/td[1]').text\n",
    "        geo_id = driver.find_element(By.XPATH, f'/html/body/div[4]/div[4]/div[2]/table/tbody/tr[{i}]/td[3]').text\n",
    "        name = driver.find_element(By.XPATH, f'/html/body/div[4]/div[4]/div[2]/table/tbody/tr[{i}]/td[6]').text\n",
    "        appraised = driver.find_element(By.XPATH, f'/html/body/div[4]/div[4]/div[2]/table/tbody/tr[{i}]/td[10]').text\n",
    "        \n",
    "        #go into each property and get more details\n",
    "        click_property = driver.find_element(By.XPATH, f'/html/body/div[4]/div[4]/div[2]/table/tbody/tr[{i}]')\n",
    "        click_property.click()\n",
    "        \n",
    "        land_size = driver.find_element(By.XPATH, f'/html/body/div[4]/div[1]/div[5]/div[2]/table/tbody/tr[2]/td[4]').text\n",
    "        land_value = driver.find_element(By.XPATH, f'/html/body/div[4]/div[1]/div[5]/div[2]/table/tbody/tr[2]/td[7]').text\n",
    "        \n",
    "        # in case any of the following don't exist. (I.E. the lot is land only)\n",
    "        try:\n",
    "            improvement = driver.find_element(By.XPATH, f'/html/body/div[4]/div[1]/div[2]/div[2]/div/table/tbody/tr[3]/td').text\n",
    "        except NoSuchElementException:\n",
    "            improvement = 0\n",
    "        if improvement != '$0 (+)':\n",
    "            try:\n",
    "                imp_sqft = driver.find_element(By.XPATH, f'/html/body/div[4]/div[1]/div[4]/div[2]/div[1]/span[3]').text\n",
    "                if 'State' in imp_sqft: #some of the pages are not consistent formatting, handles that\n",
    "                    imp_sqft = driver.find_element(By.XPATH, f'/html/body/div[4]/div[1]/div[4]/div[2]/div[1]/span[4]').text\n",
    "            except NoSuchElementException:\n",
    "                imp_sqft = 0\n",
    "\n",
    "            try:\n",
    "                year = driver.find_element(By.XPATH,f'/html/body/div[4]/div[1]/div[4]/div[2]/table/tbody/tr[2]/td[5]').text\n",
    "            except NoSuchElementException:\n",
    "                year = 'Nan'\n",
    "\n",
    "            try:\n",
    "                bldg_class = driver.find_element(By.XPATH, f'/html/body/div[4]/div[1]/div[4]/div[2]/table/tbody/tr[2]/td[3]').text\n",
    "            except NoSuchElementException:\n",
    "                bldg_class = 'Nan'\n",
    "        else:\n",
    "            imp_sqft = 0\n",
    "            year = 'Nan'\n",
    "            bldg_class = 'Nan'\n",
    "\n",
    "        \n",
    "        lot_info = lot(prop_id, geo_id, name, appraised, land_value,land_size, improvement, imp_sqft, year, bldg_class)\n",
    "        lots.append(lot_info)\n",
    "        driver.back()\n",
    "    finish = time.time()\n",
    "    print(f\"took {round(finish-start,2)} seconds\")\n",
    "        \n",
    "collect(web_url)\n",
    "\n",
    "\n"
   ]
  },
  {
   "cell_type": "markdown",
   "id": "7d98d61f",
   "metadata": {},
   "source": [
    "### Clean Data and Set Dtypes\n"
   ]
  },
  {
   "cell_type": "code",
   "execution_count": 60,
   "id": "5f60030f",
   "metadata": {},
   "outputs": [
    {
     "name": "stdout",
     "output_type": "stream",
     "text": [
      "0 <class 'int'>\n",
      "2577.0 <class 'float'>\n",
      "1564.0 <class 'float'>\n",
      "2209.0 <class 'float'>\n"
     ]
    }
   ],
   "source": [
    "for lot in lots:\n",
    "    lot.set_dtypes()\n",
    "    print(lot.imp_sqft, type(lot.imp_sqft))"
   ]
  },
  {
   "cell_type": "markdown",
   "id": "0c4b78bc",
   "metadata": {},
   "source": [
    "### Converting gathered data into csv export"
   ]
  },
  {
   "cell_type": "code",
   "execution_count": 61,
   "id": "0f4d61b3",
   "metadata": {},
   "outputs": [],
   "source": [
    "def convert_to_csv():\n",
    "    attribute_names = list(vars(lots[0]).keys())\n",
    "    data = [{attr: getattr(lot, attr) for attr in attribute_names} for lot in lots]\n",
    "    df = pd.DataFrame(data)\n",
    "    df.to_csv('data.csv', index = False)\n",
    "\n",
    "convert_to_csv()"
   ]
  },
  {
   "cell_type": "code",
   "execution_count": null,
   "id": "8bc64e43",
   "metadata": {},
   "outputs": [],
   "source": []
  },
  {
   "cell_type": "code",
   "execution_count": 62,
   "id": "219b6249",
   "metadata": {},
   "outputs": [],
   "source": [
    "%%R\n",
    "#install.packages(\"ggplot2\")\n",
    "#install.packages(\"tidyverse\")\n",
    "library(ggplot2)\n",
    "library(tidyverse)"
   ]
  },
  {
   "cell_type": "code",
   "execution_count": 63,
   "id": "baf2f478",
   "metadata": {},
   "outputs": [
    {
     "name": "stdout",
     "output_type": "stream",
     "text": [
      "  prop_id             geo_id                       name appraised land_value\n",
      "1  221853 4275-0000-0001-000 CASON GREGORY A & JONICA A    289040     289040\n",
      "2  221854 4275-0000-0003-000 CASON GREGORY A & JONICA A    770000     163500\n",
      "3  221855 4275-0000-0004-000  MORRIS GARRETT & JENNIFER    535520     161660\n",
      "4  221856 4275-0000-0005-000      COLLINS WILLIAM DAVID    769960     161660\n",
      "  land_size improved_value imp_sqft year bldg_class dollar_sqft\n",
      "1     17986              0        0  NaN        Nan          NA\n",
      "2      8175         606500     2577 2016       BH14      235.35\n",
      "3      8083         373860     1564 2014       BH12      239.04\n",
      "4      8083         608300     2209 2014       BH14      275.37\n"
     ]
    }
   ],
   "source": [
    "%%R\n",
    "new_df = read.csv('data.csv')\n",
    "head(new_df)"
   ]
  },
  {
   "cell_type": "code",
   "execution_count": null,
   "id": "46f82e5d",
   "metadata": {},
   "outputs": [],
   "source": []
  },
  {
   "cell_type": "code",
   "execution_count": null,
   "id": "554de9f3",
   "metadata": {},
   "outputs": [],
   "source": []
  }
 ],
 "metadata": {
  "kernelspec": {
   "display_name": "Python 3 (ipykernel)",
   "language": "python",
   "name": "python3"
  },
  "language_info": {
   "codemirror_mode": {
    "name": "ipython",
    "version": 3
   },
   "file_extension": ".py",
   "mimetype": "text/x-python",
   "name": "python",
   "nbconvert_exporter": "python",
   "pygments_lexer": "ipython3",
   "version": "3.10.6"
  }
 },
 "nbformat": 4,
 "nbformat_minor": 5
}
