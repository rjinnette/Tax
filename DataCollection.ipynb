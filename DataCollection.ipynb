{
 "cells": [
  {
   "cell_type": "markdown",
   "id": "95c6193e",
   "metadata": {},
   "source": [
    "# Tax Appeal\n",
    "### Created by: Ryan Jinnette\n",
    "\n",
    "#### This file uses selenium and pandas to scrape county website for tax records that will be used for analysis to fair price valuation"
   ]
  },
  {
   "cell_type": "markdown",
   "id": "f4afcfc3",
   "metadata": {},
   "source": [
    "## Set Up and Imports"
   ]
  },
  {
   "cell_type": "code",
   "execution_count": 77,
   "id": "b9face3f",
   "metadata": {},
   "outputs": [],
   "source": [
    "# !pip install selenium\n",
    "# !pip install pandas\n",
    "\n",
    "import pandas as pd\n",
    "from selenium.webdriver.common.by import By\n",
    "from selenium import webdriver\n",
    "import chromedriver_autoinstaller\n",
    "import time\n",
    "from selenium.webdriver.support.ui import WebDriverWait\n",
    "from selenium.common.exceptions import NoSuchElementException\n",
    "\n",
    "#import timeit"
   ]
  },
  {
   "cell_type": "markdown",
   "id": "83891cda",
   "metadata": {},
   "source": [
    "## Constants and Class Definitions"
   ]
  },
  {
   "cell_type": "code",
   "execution_count": 95,
   "id": "3a37ea15",
   "metadata": {},
   "outputs": [],
   "source": [
    "lots = []\n",
    "\n",
    "class lot:\n",
    "    '''This class provides a framework to store data more easily instead of multiple lists.\n",
    "    I can reference just the instance of the class'''\n",
    "    def __init__(self, prop_id=None, geo_id=None, name=None, appraised=None, land_value=None, land_size=None, improved_value=None, sqft=None, year=None, bldg_class=None):\n",
    "        self.prop_id = prop_id\n",
    "        self.geo_id = geo_id\n",
    "        self.name = name\n",
    "        self.appraised = appraised\n",
    "        self.land_value = land_value\n",
    "        self.land_size = land_size\n",
    "        self.improved_value = improved_value\n",
    "        self.imp_sqft = sqft\n",
    "        self.year = year\n",
    "        self.bldg_class = bldg_class\n",
    "        self.dollar_sqft = None\n",
    "    \n",
    "    def set_dtypes(self):\n",
    "        '''used to keep things consistent so that math can be done on all cells and not throw errors'''\n",
    "        print(\"nothing for now\")\n",
    "    \n",
    "    def calc_sqft(self):\n",
    "        return round(self.improved_value / self.sqft,2)\n",
    "    "
   ]
  },
  {
   "cell_type": "code",
   "execution_count": 79,
   "id": "8ad976bf",
   "metadata": {},
   "outputs": [],
   "source": [
    "web_url = r'https://esearch.galvestoncad.org/Search/Result?keywords=Johnson%20Crawford#'\n"
   ]
  },
  {
   "cell_type": "markdown",
   "id": "18928c1e",
   "metadata": {},
   "source": [
    "## Data Collection\n",
    "#### Iterates over the webpage and grabs all necessary data, adds to the class and uses the XPATH of certain items to track them on the page for easy identification and repeatability"
   ]
  },
  {
   "cell_type": "code",
   "execution_count": 96,
   "id": "d497a02c",
   "metadata": {},
   "outputs": [],
   "source": [
    "def collect(web_url):\n",
    "    driver = webdriver.Chrome()\n",
    "    driver.get(web_url)\n",
    "    driver.implicitly_wait(5) # dynamic waiting to see when any certain searched for object becomes available\n",
    "    time.sleep(2)\n",
    "    \n",
    "    #change the list view to 100 instead of default 25\n",
    "    btn = driver.find_element(By.ID, 'btnFilterByPage')\n",
    "    btn.click()\n",
    "    \n",
    "    btn = driver.find_element(By.XPATH, '/html/body/div[4]/div[3]/div/span[3]/ul/li[3]')\n",
    "    btn.click()\n",
    "\n",
    "    rows = driver.find_elements(By.XPATH, '/html/body/div[4]/div[4]/div[2]/table/tbody/tr')\n",
    "    \n",
    "\n",
    "    for i in range(2,4):\n",
    "        \n",
    "        # this grabs all initially avail info, will have to go into each property next\n",
    "        prop_id = driver.find_element(By.XPATH, f'/html/body/div[4]/div[4]/div[2]/table/tbody/tr[{i}]/td[1]').text\n",
    "        geo_id = driver.find_element(By.XPATH, f'/html/body/div[4]/div[4]/div[2]/table/tbody/tr[{i}]/td[3]').text\n",
    "        name = driver.find_element(By.XPATH, f'/html/body/div[4]/div[4]/div[2]/table/tbody/tr[{i}]/td[6]').text\n",
    "        appraised = driver.find_element(By.XPATH, f'/html/body/div[4]/div[4]/div[2]/table/tbody/tr[{i}]/td[10]').text\n",
    "        \n",
    "        #go into each property and get more details\n",
    "        click_property = driver.find_element(By.XPATH, f'/html/body/div[4]/div[4]/div[2]/table/tbody/tr[{i}]')\n",
    "        click_property.click()\n",
    "        \n",
    "        land_size = driver.find_element(By.XPATH, f'/html/body/div[4]/div[1]/div[5]/div[2]/table/tbody/tr[2]/td[4]').text\n",
    "        land_value = driver.find_element(By.XPATH, f'/html/body/div[4]/div[1]/div[5]/div[2]/table/tbody/tr[2]/td[7]').text\n",
    "        # in case any of the following don't exist. IE the lot is land only\n",
    "        try:\n",
    "            improvement = driver.find_element(By.XPATH, f'/html/body/div[4]/div[1]/div[2]/div[2]/div/table/tbody/tr[3]/td').text\n",
    "        except NoSuchElementException:\n",
    "            improvement = 0\n",
    "\n",
    "        try:\n",
    "            imp_sqft = driver.find_element(By.XPATH, f'/html/body/div[4]/div[1]/div[4]/div[2]/div[1]/span[3]').text\n",
    "        except NoSuchElementException:\n",
    "            imp_sqft = 0\n",
    "\n",
    "        try:\n",
    "            year = driver.find_element(By.XPATH,f'/html/body/div[4]/div[1]/div[4]/div[2]/table/tbody/tr[2]/td[5]').text\n",
    "        except NoSuchElementException:\n",
    "            year = 'Nan'\n",
    "\n",
    "        try:\n",
    "            bldg_class = driver.find_element(By.XPATH, f'/html/body/div[4]/div[1]/div[4]/div[2]/table/tbody/tr[2]/td[3]').text\n",
    "        except NoSuchElementException:\n",
    "            bldg_class = 'Nan'\n",
    "\n",
    "        lot_info = lot(prop_id, geo_id, name, appraised, land_value,land_size, improvement, imp_sqft, year, bldg_class)\n",
    "        lots.append(lot_info)\n",
    "        driver.back()\n",
    "        \n",
    "        \n",
    "collect(web_url)\n",
    "\n",
    "\n"
   ]
  },
  {
   "cell_type": "code",
   "execution_count": 98,
   "id": "46f82e5d",
   "metadata": {},
   "outputs": [
    {
     "name": "stdout",
     "output_type": "stream",
     "text": [
      "221853\n",
      "4275-0000-0001-000\n",
      "CASON GREGORY A & JONICA A\n",
      "$289,040\n",
      "$289,040\n",
      "17,986.00\n",
      "$0 (+)\n",
      "0\n",
      "Nan\n",
      "Nan\n",
      "None\n"
     ]
    }
   ],
   "source": [
    "lot = lots[0]\n",
    "attr = vars(lot).keys()\n",
    "#print(attr)\n",
    "for att in attr:\n",
    "    print(getattr(lot,att))"
   ]
  },
  {
   "cell_type": "code",
   "execution_count": null,
   "id": "baf2f478",
   "metadata": {},
   "outputs": [],
   "source": []
  }
 ],
 "metadata": {
  "kernelspec": {
   "display_name": "Python 3 (ipykernel)",
   "language": "python",
   "name": "python3"
  },
  "language_info": {
   "codemirror_mode": {
    "name": "ipython",
    "version": 3
   },
   "file_extension": ".py",
   "mimetype": "text/x-python",
   "name": "python",
   "nbconvert_exporter": "python",
   "pygments_lexer": "ipython3",
   "version": "3.10.6"
  }
 },
 "nbformat": 4,
 "nbformat_minor": 5
}
