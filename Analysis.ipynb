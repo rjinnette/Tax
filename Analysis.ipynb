{
 "cells": [
  {
   "cell_type": "markdown",
   "id": "1d385f15",
   "metadata": {},
   "source": [
    "# Data Analysis: See DataCollection.ipynb First"
   ]
  },
  {
   "cell_type": "markdown",
   "id": "3fe84868",
   "metadata": {},
   "source": [
    "### Set up Imports and Import Data\n",
    "Uses:\n",
    "- rpy2: to utilize R to run analysis and create models\n",
    "- pandas: handle df operations\n",
    "- datetime: to calculate dates/perform operations"
   ]
  },
  {
   "cell_type": "code",
   "execution_count": null,
   "id": "554e0aff",
   "metadata": {},
   "outputs": [],
   "source": [
    "import pandas as pd\n",
    "import rpy2\n",
    "import datetime\n",
    "%load_ext rpy2.ipython\n",
    "\n",
    "# Things to add still\n",
    "## Check P Values and group Land Size by additional unit (10, 100?)\n",
    "## Create a predicted column based upon the given fields, calculate Deltas and visualize data/errors\n",
    "## See what % is fair valued vs not"
   ]
  },
  {
   "cell_type": "markdown",
   "id": "73a01cc3-2f84-4386-97dc-6aec06d9303e",
   "metadata": {},
   "source": [
    "### Grab the file and import Data"
   ]
  },
  {
   "cell_type": "code",
   "execution_count": null,
   "id": "1ad868ce",
   "metadata": {},
   "outputs": [],
   "source": [
    "# allows dynamic naming of files to access different ones depending on year/purpose\n",
    "file_name = str(input('Enter name of CSV in current working directory (include .csv): '))\n",
    "df = pd.read_csv(file_name)\n",
    "\n",
    "# grabs year to use to calculate \"years old\" in the df\n",
    "year = datetime.datetime.today().year\n",
    "print(year)"
   ]
  },
  {
   "cell_type": "code",
   "execution_count": null,
   "id": "ae6d61c0",
   "metadata": {},
   "outputs": [],
   "source": [
    "# creates 2 new df's, one for lots with houses and one for lots with only land\n",
    "df_land = df.loc[df['improved_value'] == 0.0]\n",
    "df_houses = df.loc[df['improved_value'] != 0.0]\n",
    "\n",
    "# fills the years columns with years old\n",
    "df_houses['year'] = pd.to_numeric(df['year'], errors='coerce').fillna(0).astype(int)\n",
    "df_houses['years_old'] = year - df_houses['year']\n",
    "\n",
    "\n",
    "# export these two dfs so we can use them in the R language below\n",
    "df_houses.to_csv(f'Data/{file_name[:4]}_Houses.csv') # use dynamic filename to name our data_file\n",
    "df_land.to_csv(f'Data/{file_name[:4]}_Land.csv') # use dynamic filename to name our data_file"
   ]
  },
  {
   "cell_type": "markdown",
   "id": "670a6331-97b1-47e0-bfb9-87b4dde5729c",
   "metadata": {},
   "source": [
    "### Now using R to import files and look at the data"
   ]
  },
  {
   "cell_type": "code",
   "execution_count": null,
   "id": "d0bcebc3",
   "metadata": {},
   "outputs": [],
   "source": [
    "%%R\n",
    "\n",
    "# imports for R\n",
    "library(ggplot2)\n",
    "library(tidyverse)\n",
    "library(moderndive)\n",
    "\n",
    "options(scipen = 999) # sets the output formatting for numbers\n",
    "\n"
   ]
  },
  {
   "cell_type": "code",
   "execution_count": null,
   "id": "e617b691",
   "metadata": {},
   "outputs": [],
   "source": [
    "%%R\n",
    "# read in files\n",
    "houses = read.csv('Data/2023_Houses.csv')\n",
    "land = read.csv('Data/2023_Land.csv')\n",
    "\n",
    "#make sure the year is at the oldest entry to prevent outliers or mistyped data\n",
    "houses_1984 = houses %>%\n",
    "    filter(year > 1984)"
   ]
  },
  {
   "cell_type": "code",
   "execution_count": null,
   "id": "364357c5",
   "metadata": {},
   "outputs": [],
   "source": [
    "%%R\n",
    "\n",
    "# create dummy variables for our house classes since the county identifies them accordingly\n",
    "houses_1984 = houses_1984 %>%\n",
    "    mutate(isBH14 = ifelse(bldg_class == 'BH14', 1, 0),\n",
    "          isBH12 = ifelse(bldg_class == 'BH12', 1,0))\n",
    "\n",
    "head(houses_1984)\n"
   ]
  },
  {
   "cell_type": "code",
   "execution_count": null,
   "id": "1660fdf5-06d1-46b3-bcbc-461430fdc255",
   "metadata": {},
   "outputs": [],
   "source": [
    "%%R\n",
    "# take a peak\n",
    "head(houses)"
   ]
  },
  {
   "cell_type": "markdown",
   "id": "ed60a3df-f413-40d1-b0ed-e5fa49852508",
   "metadata": {},
   "source": [
    "### Create Models"
   ]
  },
  {
   "cell_type": "code",
   "execution_count": null,
   "id": "2a17c7fe",
   "metadata": {},
   "outputs": [],
   "source": [
    "%%R\n",
    "\n",
    "# handle outlier data \n",
    "threshold_year = 2023 - 1984\n",
    "\n",
    "# start running regression on these houses to see if any trends emerge\n",
    "# lm_houses = lm(appraised ~ land_value + land_size + imp_sqft + years_old, data = subset(houses, years_old < threshold_year))\n",
    "lm_houses = lm(appraised ~ land_size + imp_sqft + years_old, data = houses)\n",
    "#lm_houses_1984 = lm(appraised ~ land_size + imp_sqft + years_old + bldg_class, data = houses_1984)\n",
    "# head(houses)"
   ]
  },
  {
   "cell_type": "code",
   "execution_count": null,
   "id": "1254e630",
   "metadata": {},
   "outputs": [],
   "source": [
    "%%R\n",
    "\n",
    "# look at the coefs of my models\n",
    "coef(lm_houses)\n",
    "coef(lm_houses_1984)#first regression"
   ]
  },
  {
   "cell_type": "code",
   "execution_count": null,
   "id": "cc0fb784",
   "metadata": {},
   "outputs": [],
   "source": [
    "%%R\n",
    "# create a new col to see the error in our model or the difference at every entry\n",
    "houses = houses %>%\n",
    "    mutate(predicted_app_value = predict(lm_houses, newdata= houses),\n",
    "           delta = predicted_app_value - appraised)\n",
    "\n",
    "# look at the coefs\n",
    "coef(lm_houses)\n",
    "    "
   ]
  },
  {
   "cell_type": "code",
   "execution_count": null,
   "id": "384e80da",
   "metadata": {},
   "outputs": [],
   "source": [
    "%%R\n",
    "\n",
    "# look at the significance of each coefficient to see if it can be left in the model\n",
    "options(scipen = 999)\n",
    "get_regression_table(lm_houses_1984)"
   ]
  }
 ],
 "metadata": {
  "kernelspec": {
   "display_name": "Python 3 (ipykernel)",
   "language": "python",
   "name": "python3"
  },
  "language_info": {
   "codemirror_mode": {
    "name": "ipython",
    "version": 3
   },
   "file_extension": ".py",
   "mimetype": "text/x-python",
   "name": "python",
   "nbconvert_exporter": "python",
   "pygments_lexer": "ipython3",
   "version": "3.12.1"
  }
 },
 "nbformat": 4,
 "nbformat_minor": 5
}
