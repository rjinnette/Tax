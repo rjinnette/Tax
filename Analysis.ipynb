{
 "cells": [
  {
   "cell_type": "markdown",
   "id": "1d385f15",
   "metadata": {},
   "source": [
    "# Data Analysis: See Data Collection First"
   ]
  },
  {
   "cell_type": "markdown",
   "id": "3fe84868",
   "metadata": {},
   "source": [
    "### Set up Imports and Import Data\n",
    "#### Uses rpy2 to utilize R data visualization language to run analysis"
   ]
  },
  {
   "cell_type": "code",
   "execution_count": 1,
   "id": "554e0aff",
   "metadata": {},
   "outputs": [],
   "source": [
    "import pandas as pd\n",
    "import rpy2\n",
    "import datetime\n",
    "%load_ext rpy2.ipython\n",
    "\n",
    "# Things to add still\n",
    "## Check P Values and group Land Size by additional unit (10, 100?)\n",
    "## Create a predicted column based upon the given fields, calculate Deltas and visualize data/errors\n",
    "## See what % is fair valued vs not"
   ]
  },
  {
   "cell_type": "code",
   "execution_count": 2,
   "id": "1ad868ce",
   "metadata": {},
   "outputs": [
    {
     "name": "stdout",
     "output_type": "stream",
     "text": [
      "Enter name of CSV in current working directory (include .csv): 2023_data.csv\n",
      "2024\n"
     ]
    }
   ],
   "source": [
    "file_name = str(input('Enter name of CSV in current working directory (include .csv): '))\n",
    "df = pd.read_csv(file_name)\n",
    "\n",
    "year = datetime.datetime.today().year\n",
    "print(year)\n",
    "\n",
    "# testing output\n",
    "# df.info()\n",
    "\n"
   ]
  },
  {
   "cell_type": "code",
   "execution_count": null,
   "id": "c9b75f98",
   "metadata": {},
   "outputs": [],
   "source": []
  },
  {
   "cell_type": "code",
   "execution_count": 3,
   "id": "ae6d61c0",
   "metadata": {},
   "outputs": [
    {
     "name": "stderr",
     "output_type": "stream",
     "text": [
      "/var/folders/f3/p47z8bv91fz_xq2tl0xv0sq80000gn/T/ipykernel_17055/3830662668.py:4: SettingWithCopyWarning: \n",
      "A value is trying to be set on a copy of a slice from a DataFrame.\n",
      "Try using .loc[row_indexer,col_indexer] = value instead\n",
      "\n",
      "See the caveats in the documentation: https://pandas.pydata.org/pandas-docs/stable/user_guide/indexing.html#returning-a-view-versus-a-copy\n",
      "  df_houses['year'] = pd.to_numeric(df['year'], errors='coerce').fillna(0).astype(int)\n",
      "/var/folders/f3/p47z8bv91fz_xq2tl0xv0sq80000gn/T/ipykernel_17055/3830662668.py:5: SettingWithCopyWarning: \n",
      "A value is trying to be set on a copy of a slice from a DataFrame.\n",
      "Try using .loc[row_indexer,col_indexer] = value instead\n",
      "\n",
      "See the caveats in the documentation: https://pandas.pydata.org/pandas-docs/stable/user_guide/indexing.html#returning-a-view-versus-a-copy\n",
      "  df_houses['years_old'] = year - df_houses['year']\n"
     ]
    }
   ],
   "source": [
    "df_land = df.loc[df['improved_value'] == 0.0]\n",
    "df_houses = df.loc[df['improved_value'] != 0.0]\n",
    "\n",
    "df_houses['year'] = pd.to_numeric(df['year'], errors='coerce').fillna(0).astype(int)\n",
    "df_houses['years_old'] = year - df_houses['year']\n",
    "\n",
    "# df_houses.info()\n",
    "\n",
    "df_houses.to_csv(f'Data/{file_name[:4]}_Houses.csv') # use dynamic filename to name our data_file\n",
    "df_land.to_csv(f'Data/{file_name[:4]}_Land.csv') # use dynamic filename to name our data_file"
   ]
  },
  {
   "cell_type": "code",
   "execution_count": 4,
   "id": "d0bcebc3",
   "metadata": {},
   "outputs": [
    {
     "name": "stdout",
     "output_type": "stream",
     "text": [
      "── Attaching core tidyverse packages ──────────────────────── tidyverse 2.0.0 ──\n",
      "✔ dplyr     1.1.4     ✔ readr     2.1.4\n",
      "✔ forcats   1.0.0     ✔ stringr   1.5.1\n",
      "✔ lubridate 1.9.3     ✔ tibble    3.2.1\n",
      "✔ purrr     1.0.2     ✔ tidyr     1.3.0\n",
      "── Conflicts ────────────────────────────────────────── tidyverse_conflicts() ──\n",
      "✖ dplyr::filter() masks stats::filter()\n",
      "✖ dplyr::lag()    masks stats::lag()\n",
      "ℹ Use the conflicted package (<http://conflicted.r-lib.org/>) to force all conflicts to become errors\n"
     ]
    },
    {
     "data": {
      "text/plain": [
       "In addition: Warning messages:\n",
       "1: package ‘dplyr’ was built under R version 4.2.3 \n",
       "2: package ‘stringr’ was built under R version 4.2.3 \n"
      ]
     },
     "metadata": {},
     "output_type": "display_data"
    }
   ],
   "source": [
    "%%R\n",
    "library(ggplot2)\n",
    "library(tidyverse)\n",
    "library(moderndive)\n",
    "\n",
    "options(scipen = 999) # sets the output formatting for numbers\n",
    "\n"
   ]
  },
  {
   "cell_type": "code",
   "execution_count": null,
   "id": "e617b691",
   "metadata": {},
   "outputs": [],
   "source": [
    "%%R\n",
    "houses = read.csv('Data/2023_Houses.csv')\n",
    "land = read.csv('Data/2023_Land.csv')\n",
    "\n",
    "\n",
    "houses_1984 = houses %>%\n",
    "    filter(year > 1984)"
   ]
  },
  {
   "cell_type": "code",
   "execution_count": 17,
   "id": "364357c5",
   "metadata": {},
   "outputs": [
    {
     "name": "stdout",
     "output_type": "stream",
     "text": [
      "  X prop_id             geo_id                                        name\n",
      "1 1  221854 4275-0000-0003-000                  CASON GREGORY A & JONICA A\n",
      "2 2  221855 4275-0000-0004-000                   MORRIS GARRETT & JENNIFER\n",
      "3 3  221856 4275-0000-0005-000                       COLLINS WILLIAM DAVID\n",
      "4 5  221860 4275-0000-0009-000 STANDLEE JENNIFER SUTTON & PATRICIA BESSOLO\n",
      "5 7  221863 4275-0000-0012-000                               ETOYAN MARINE\n",
      "6 8  221866 4275-0000-0015-000                 WIMBERLY WARREN R & KEL LEE\n",
      "  appraised land_value land_size improved_value imp_sqft year bldg_class\n",
      "1    770000     163500      8175         606500     2577 2016       BH14\n",
      "2    535520     161660      8083         373860     1564 2014       BH12\n",
      "3    769960     161660      8083         608300     2209 2014       BH14\n",
      "4    605520      38710      5530         566810     1408 2007       BH14\n",
      "5    512390      30420      5530         451550     1368 2010       BH14\n",
      "6    349560      30420      5530         319140     1216 2016       BH12\n",
      "  dollar_sqft years_old isBH14 isBH12\n",
      "1          NA         8      1      0\n",
      "2          NA        10      0      1\n",
      "3          NA        10      1      0\n",
      "4          NA        17      1      0\n",
      "5          NA        14      1      0\n",
      "6          NA         8      0      1\n"
     ]
    }
   ],
   "source": [
    "%%R\n",
    "\n",
    "# create dummy variables for our house classes since the county identifies them accordingly\n",
    "houses_1984 = houses_1984 %>%\n",
    "    mutate(isBH14 = ifelse(bldg_class == 'BH14', 1, 0),\n",
    "          isBH12 = ifelse(bldg_class == 'BH12', 1,0))\n",
    "\n",
    "head(houses_1984)\n"
   ]
  },
  {
   "cell_type": "code",
   "execution_count": 18,
   "id": "2a17c7fe",
   "metadata": {},
   "outputs": [
    {
     "name": "stdout",
     "output_type": "stream",
     "text": [
      "  X prop_id             geo_id                                        name\n",
      "1 1  221854 4275-0000-0003-000                  CASON GREGORY A & JONICA A\n",
      "2 2  221855 4275-0000-0004-000                   MORRIS GARRETT & JENNIFER\n",
      "3 3  221856 4275-0000-0005-000                       COLLINS WILLIAM DAVID\n",
      "4 5  221860 4275-0000-0009-000 STANDLEE JENNIFER SUTTON & PATRICIA BESSOLO\n",
      "5 7  221863 4275-0000-0012-000                               ETOYAN MARINE\n",
      "6 8  221866 4275-0000-0015-000                 WIMBERLY WARREN R & KEL LEE\n",
      "  appraised land_value land_size improved_value imp_sqft year bldg_class\n",
      "1    770000     163500      8175         606500     2577 2016       BH14\n",
      "2    535520     161660      8083         373860     1564 2014       BH12\n",
      "3    769960     161660      8083         608300     2209 2014       BH14\n",
      "4    605520      38710      5530         566810     1408 2007       BH14\n",
      "5    512390      30420      5530         451550     1368 2010       BH14\n",
      "6    349560      30420      5530         319140     1216 2016       BH12\n",
      "  dollar_sqft years_old predicted_app_value      delta\n",
      "1          NA         8            732292.4  -37707.60\n",
      "2          NA        10            494167.9  -41352.08\n",
      "3          NA        10            645500.6 -124459.43\n",
      "4          NA        17            447771.3 -157748.74\n",
      "5          NA        14            438553.0  -73837.01\n",
      "6          NA         8            403223.5   53663.50\n"
     ]
    }
   ],
   "source": [
    "%%R\n",
    "\n",
    "threshold_year = 1984 - 2023\n",
    "#lm_houses = lm(appraised ~ land_value + land_size + imp_sqft + years_old, data = subset(houses, years_old < threshold_year))\n",
    "lm_houses = lm(appraised ~ land_size + imp_sqft + years_old, data = houses)\n",
    "lm_houses_1984 = lm(appraised ~ land_size + imp_sqft + years_old + bldg_class, data = houses_1984)\n",
    "# head(houses)"
   ]
  },
  {
   "cell_type": "code",
   "execution_count": 19,
   "id": "1254e630",
   "metadata": {},
   "outputs": [
    {
     "name": "stdout",
     "output_type": "stream",
     "text": [
      "   (Intercept)      land_size       imp_sqft      years_old bldg_classBH14 \n",
      "  31682.953483      -9.508675     284.060756    4203.504960   81628.518691 \n"
     ]
    }
   ],
   "source": [
    "%%R\n",
    "\n",
    "coef(lm_houses)\n",
    "coef(lm_houses_1984)#first regression"
   ]
  },
  {
   "cell_type": "code",
   "execution_count": 8,
   "id": "cc0fb784",
   "metadata": {},
   "outputs": [
    {
     "name": "stdout",
     "output_type": "stream",
     "text": [
      " (Intercept)    land_size     imp_sqft    years_old \n",
      "97990.122273     3.684411   234.624272   -55.566296 \n"
     ]
    }
   ],
   "source": [
    "%%R\n",
    "houses = houses %>%\n",
    "    mutate(predicted_app_value = predict(lm_houses, newdata= houses),\n",
    "           delta = predicted_app_value - appraised)\n",
    "\n",
    "coef(lm_houses)\n",
    "    "
   ]
  },
  {
   "cell_type": "code",
   "execution_count": 20,
   "id": "384e80da",
   "metadata": {},
   "outputs": [
    {
     "name": "stdout",
     "output_type": "stream",
     "text": [
      "# A tibble: 5 × 7\n",
      "  term             estimate std_error statistic p_value  lower_ci upper_ci\n",
      "  <chr>               <dbl>     <dbl>     <dbl>   <dbl>     <dbl>    <dbl>\n",
      "1 intercept        31683.    130581.      0.243   0.811 -243819.  307185. \n",
      "2 land_size           -9.51      12.0    -0.791   0.44      -34.9     15.9\n",
      "3 imp_sqft           284.        50.4     5.64    0         178.     390. \n",
      "4 years_old         4204.      4597.      0.914   0.373   -5496.   13903. \n",
      "5 bldg_class: BH14 81629.     43807.      1.86    0.08   -10796.  174053. \n"
     ]
    }
   ],
   "source": [
    "%%R\n",
    "\n",
    "options(scipen = 999)\n",
    "get_regression_table(lm_houses_1984)"
   ]
  },
  {
   "cell_type": "code",
   "execution_count": null,
   "id": "c8b023b6",
   "metadata": {},
   "outputs": [],
   "source": []
  }
 ],
 "metadata": {
  "kernelspec": {
   "display_name": "Python 3 (ipykernel)",
   "language": "python",
   "name": "python3"
  },
  "language_info": {
   "codemirror_mode": {
    "name": "ipython",
    "version": 3
   },
   "file_extension": ".py",
   "mimetype": "text/x-python",
   "name": "python",
   "nbconvert_exporter": "python",
   "pygments_lexer": "ipython3",
   "version": "3.10.6"
  }
 },
 "nbformat": 4,
 "nbformat_minor": 5
}
