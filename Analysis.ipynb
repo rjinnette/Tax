{
 "cells": [
  {
   "cell_type": "markdown",
   "id": "1d385f15",
   "metadata": {},
   "source": [
    "# Data Analysis: See Data Collection First"
   ]
  },
  {
   "cell_type": "markdown",
   "id": "3fe84868",
   "metadata": {},
   "source": [
    "### Set up Imports and Import Data\n",
    "#### Uses rpy2 to utilize R data visualization language to run analysis"
   ]
  },
  {
   "cell_type": "code",
   "execution_count": 14,
   "id": "554e0aff",
   "metadata": {},
   "outputs": [
    {
     "name": "stdout",
     "output_type": "stream",
     "text": [
      "The rpy2.ipython extension is already loaded. To reload it, use:\n",
      "  %reload_ext rpy2.ipython\n"
     ]
    }
   ],
   "source": [
    "import pandas as pd\n",
    "import rpy2\n",
    "%load_ext rpy2.ipython"
   ]
  },
  {
   "cell_type": "code",
   "execution_count": 18,
   "id": "1ad868ce",
   "metadata": {},
   "outputs": [
    {
     "name": "stdout",
     "output_type": "stream",
     "text": [
      "Enter name of CSV in current working directory (include .csv): 2023_data.csv\n"
     ]
    },
    {
     "data": {
      "text/html": [
       "<div>\n",
       "<style scoped>\n",
       "    .dataframe tbody tr th:only-of-type {\n",
       "        vertical-align: middle;\n",
       "    }\n",
       "\n",
       "    .dataframe tbody tr th {\n",
       "        vertical-align: top;\n",
       "    }\n",
       "\n",
       "    .dataframe thead th {\n",
       "        text-align: right;\n",
       "    }\n",
       "</style>\n",
       "<table border=\"1\" class=\"dataframe\">\n",
       "  <thead>\n",
       "    <tr style=\"text-align: right;\">\n",
       "      <th></th>\n",
       "      <th>prop_id</th>\n",
       "      <th>geo_id</th>\n",
       "      <th>name</th>\n",
       "      <th>appraised</th>\n",
       "      <th>land_value</th>\n",
       "      <th>land_size</th>\n",
       "      <th>improved_value</th>\n",
       "      <th>imp_sqft</th>\n",
       "      <th>year</th>\n",
       "      <th>bldg_class</th>\n",
       "      <th>dollar_sqft</th>\n",
       "    </tr>\n",
       "  </thead>\n",
       "  <tbody>\n",
       "    <tr>\n",
       "      <th>0</th>\n",
       "      <td>221853</td>\n",
       "      <td>4275-0000-0001-000</td>\n",
       "      <td>CASON GREGORY A &amp; JONICA A</td>\n",
       "      <td>289040.0</td>\n",
       "      <td>289040.0</td>\n",
       "      <td>17986.0</td>\n",
       "      <td>0.0</td>\n",
       "      <td>0.0</td>\n",
       "      <td>Nan</td>\n",
       "      <td>Nan</td>\n",
       "      <td>NaN</td>\n",
       "    </tr>\n",
       "    <tr>\n",
       "      <th>1</th>\n",
       "      <td>221854</td>\n",
       "      <td>4275-0000-0003-000</td>\n",
       "      <td>CASON GREGORY A &amp; JONICA A</td>\n",
       "      <td>770000.0</td>\n",
       "      <td>163500.0</td>\n",
       "      <td>8175.0</td>\n",
       "      <td>606500.0</td>\n",
       "      <td>2577.0</td>\n",
       "      <td>2016</td>\n",
       "      <td>BH14</td>\n",
       "      <td>235.35</td>\n",
       "    </tr>\n",
       "    <tr>\n",
       "      <th>2</th>\n",
       "      <td>221855</td>\n",
       "      <td>4275-0000-0004-000</td>\n",
       "      <td>MORRIS GARRETT &amp; JENNIFER</td>\n",
       "      <td>535520.0</td>\n",
       "      <td>161660.0</td>\n",
       "      <td>8083.0</td>\n",
       "      <td>373860.0</td>\n",
       "      <td>1564.0</td>\n",
       "      <td>2014</td>\n",
       "      <td>BH12</td>\n",
       "      <td>239.04</td>\n",
       "    </tr>\n",
       "    <tr>\n",
       "      <th>3</th>\n",
       "      <td>221856</td>\n",
       "      <td>4275-0000-0005-000</td>\n",
       "      <td>COLLINS WILLIAM DAVID</td>\n",
       "      <td>769960.0</td>\n",
       "      <td>161660.0</td>\n",
       "      <td>8083.0</td>\n",
       "      <td>608300.0</td>\n",
       "      <td>2209.0</td>\n",
       "      <td>2014</td>\n",
       "      <td>BH14</td>\n",
       "      <td>275.37</td>\n",
       "    </tr>\n",
       "  </tbody>\n",
       "</table>\n",
       "</div>"
      ],
      "text/plain": [
       "   prop_id              geo_id                        name  appraised  \\\n",
       "0   221853  4275-0000-0001-000  CASON GREGORY A & JONICA A   289040.0   \n",
       "1   221854  4275-0000-0003-000  CASON GREGORY A & JONICA A   770000.0   \n",
       "2   221855  4275-0000-0004-000   MORRIS GARRETT & JENNIFER   535520.0   \n",
       "3   221856  4275-0000-0005-000       COLLINS WILLIAM DAVID   769960.0   \n",
       "\n",
       "   land_value  land_size  improved_value  imp_sqft  year bldg_class  \\\n",
       "0    289040.0    17986.0             0.0       0.0   Nan        Nan   \n",
       "1    163500.0     8175.0        606500.0    2577.0  2016       BH14   \n",
       "2    161660.0     8083.0        373860.0    1564.0  2014       BH12   \n",
       "3    161660.0     8083.0        608300.0    2209.0  2014       BH14   \n",
       "\n",
       "   dollar_sqft  \n",
       "0          NaN  \n",
       "1       235.35  \n",
       "2       239.04  \n",
       "3       275.37  "
      ]
     },
     "execution_count": 18,
     "metadata": {},
     "output_type": "execute_result"
    }
   ],
   "source": [
    "file_name = str(input('Enter name of CSV in current working directory (include .csv): '))\n",
    "df = pd.read_csv(file_name)\n",
    "\n",
    "#testing output\n",
    "df.head()\n"
   ]
  },
  {
   "cell_type": "code",
   "execution_count": 23,
   "id": "ae6d61c0",
   "metadata": {},
   "outputs": [
    {
     "name": "stdout",
     "output_type": "stream",
     "text": [
      "<class 'pandas.core.frame.DataFrame'>\n",
      "Int64Index: 1 entries, 0 to 0\n",
      "Data columns (total 11 columns):\n",
      " #   Column          Non-Null Count  Dtype  \n",
      "---  ------          --------------  -----  \n",
      " 0   prop_id         1 non-null      int64  \n",
      " 1   geo_id          1 non-null      object \n",
      " 2   name            1 non-null      object \n",
      " 3   appraised       1 non-null      float64\n",
      " 4   land_value      1 non-null      float64\n",
      " 5   land_size       1 non-null      float64\n",
      " 6   improved_value  1 non-null      float64\n",
      " 7   imp_sqft        1 non-null      float64\n",
      " 8   year            1 non-null      object \n",
      " 9   bldg_class      1 non-null      object \n",
      " 10  dollar_sqft     0 non-null      float64\n",
      "dtypes: float64(6), int64(1), object(4)\n",
      "memory usage: 96.0+ bytes\n"
     ]
    }
   ],
   "source": [
    "df_land_only = df.loc[df['improved_value'] == 0.0]\n",
    "df_land_only.info()"
   ]
  },
  {
   "cell_type": "code",
   "execution_count": 17,
   "id": "d0bcebc3",
   "metadata": {},
   "outputs": [
    {
     "name": "stdout",
     "output_type": "stream",
     "text": [
      "  prop_id             geo_id                       name appraised land_value\n",
      "1  221853 4275-0000-0001-000 CASON GREGORY A & JONICA A    289040     289040\n",
      "2  221854 4275-0000-0003-000 CASON GREGORY A & JONICA A    770000     163500\n",
      "3  221855 4275-0000-0004-000  MORRIS GARRETT & JENNIFER    535520     161660\n",
      "4  221856 4275-0000-0005-000      COLLINS WILLIAM DAVID    769960     161660\n",
      "  land_size improved_value imp_sqft year bldg_class dollar_sqft\n",
      "1     17986              0        0  NaN        Nan          NA\n",
      "2      8175         606500     2577 2016       BH14      235.35\n",
      "3      8083         373860     1564 2014       BH12      239.04\n",
      "4      8083         608300     2209 2014       BH14      275.37\n"
     ]
    }
   ],
   "source": [
    "%%R\n",
    "library(ggplot2)\n",
    "library(tidyverse)\n",
    "\n",
    "new_df = read.csv('2023_data.csv')\n",
    "head(new_df)\n"
   ]
  },
  {
   "cell_type": "code",
   "execution_count": null,
   "id": "2a17c7fe",
   "metadata": {},
   "outputs": [],
   "source": []
  }
 ],
 "metadata": {
  "kernelspec": {
   "display_name": "Python 3 (ipykernel)",
   "language": "python",
   "name": "python3"
  },
  "language_info": {
   "codemirror_mode": {
    "name": "ipython",
    "version": 3
   },
   "file_extension": ".py",
   "mimetype": "text/x-python",
   "name": "python",
   "nbconvert_exporter": "python",
   "pygments_lexer": "ipython3",
   "version": "3.10.6"
  }
 },
 "nbformat": 4,
 "nbformat_minor": 5
}
